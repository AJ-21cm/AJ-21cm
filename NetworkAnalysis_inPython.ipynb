{
  "nbformat": 4,
  "nbformat_minor": 0,
  "metadata": {
    "colab": {
      "provenance": [],
      "authorship_tag": "ABX9TyOAm8EUkjoTUEmggagdgsVk",
      "include_colab_link": true
    },
    "kernelspec": {
      "name": "python3",
      "display_name": "Python 3"
    },
    "language_info": {
      "name": "python"
    }
  },
  "cells": [
    {
      "cell_type": "markdown",
      "metadata": {
        "id": "view-in-github",
        "colab_type": "text"
      },
      "source": [
        "<a href=\"https://colab.research.google.com/github/AJ-21cm/AJ-21cm/blob/main/NetworkAnalysis_inPython.ipynb\" target=\"_parent\"><img src=\"https://colab.research.google.com/assets/colab-badge.svg\" alt=\"Open In Colab\"/></a>"
      ]
    },
    {
      "cell_type": "code",
      "execution_count": null,
      "metadata": {
        "id": "GODZQJhGhzES"
      },
      "outputs": [],
      "source": [
        "import osmnx as ox\n",
        "import networkx as nx\n",
        "import geopandas as gpd\n",
        "import matplotlib.pyplot as plt\n",
        "import pandas as pd"
      ]
    },
    {
      "cell_type": "code",
      "source": [
        "!pip install osmnx"
      ],
      "metadata": {
        "colab": {
          "base_uri": "https://localhost:8080/",
          "height": 1000
        },
        "id": "O2w6OG4moAny",
        "outputId": "b8c370fa-48df-4ad8-a5c6-40a01d28a0ee"
      },
      "execution_count": null,
      "outputs": [
        {
          "output_type": "stream",
          "name": "stdout",
          "text": [
            "Looking in indexes: https://pypi.org/simple, https://us-python.pkg.dev/colab-wheels/public/simple/\n",
            "Collecting osmnx\n",
            "  Downloading osmnx-1.1.2-py2.py3-none-any.whl (95 kB)\n",
            "\u001b[K     |████████████████████████████████| 95 kB 2.9 MB/s \n",
            "\u001b[?25hRequirement already satisfied: pandas>=1.3 in /usr/local/lib/python3.7/dist-packages (from osmnx) (1.3.5)\n",
            "Collecting requests>=2.26\n",
            "  Downloading requests-2.28.0-py3-none-any.whl (62 kB)\n",
            "\u001b[K     |████████████████████████████████| 62 kB 1.6 MB/s \n",
            "\u001b[?25hCollecting geopandas>=0.10\n",
            "  Downloading geopandas-0.10.2-py2.py3-none-any.whl (1.0 MB)\n",
            "\u001b[K     |████████████████████████████████| 1.0 MB 29.5 MB/s \n",
            "\u001b[?25hRequirement already satisfied: networkx>=2.6 in /usr/local/lib/python3.7/dist-packages (from osmnx) (2.6.3)\n",
            "Collecting pyproj>=3.2\n",
            "  Downloading pyproj-3.2.1-cp37-cp37m-manylinux2010_x86_64.whl (6.3 MB)\n",
            "\u001b[K     |████████████████████████████████| 6.3 MB 51.1 MB/s \n",
            "\u001b[?25hCollecting matplotlib>=3.4\n",
            "  Downloading matplotlib-3.5.2-cp37-cp37m-manylinux_2_5_x86_64.manylinux1_x86_64.whl (11.2 MB)\n",
            "\u001b[K     |████████████████████████████████| 11.2 MB 39.2 MB/s \n",
            "\u001b[?25hRequirement already satisfied: Shapely<2.0,>=1.7 in /usr/local/lib/python3.7/dist-packages (from osmnx) (1.8.2)\n",
            "Requirement already satisfied: numpy>=1.21 in /usr/local/lib/python3.7/dist-packages (from osmnx) (1.21.6)\n",
            "Collecting Rtree>=0.9\n",
            "  Downloading Rtree-1.0.0-cp37-cp37m-manylinux_2_17_x86_64.manylinux2014_x86_64.whl (1.0 MB)\n",
            "\u001b[K     |████████████████████████████████| 1.0 MB 41.4 MB/s \n",
            "\u001b[?25hCollecting fiona>=1.8\n",
            "  Downloading Fiona-1.8.21-cp37-cp37m-manylinux2014_x86_64.whl (16.7 MB)\n",
            "\u001b[K     |████████████████████████████████| 16.7 MB 361 kB/s \n",
            "\u001b[?25hCollecting click-plugins>=1.0\n",
            "  Downloading click_plugins-1.1.1-py2.py3-none-any.whl (7.5 kB)\n",
            "Collecting munch\n",
            "  Downloading munch-2.5.0-py2.py3-none-any.whl (10 kB)\n",
            "Requirement already satisfied: certifi in /usr/local/lib/python3.7/dist-packages (from fiona>=1.8->geopandas>=0.10->osmnx) (2022.6.15)\n",
            "Requirement already satisfied: click>=4.0 in /usr/local/lib/python3.7/dist-packages (from fiona>=1.8->geopandas>=0.10->osmnx) (7.1.2)\n",
            "Requirement already satisfied: setuptools in /usr/local/lib/python3.7/dist-packages (from fiona>=1.8->geopandas>=0.10->osmnx) (57.4.0)\n",
            "Collecting cligj>=0.5\n",
            "  Downloading cligj-0.7.2-py3-none-any.whl (7.1 kB)\n",
            "Requirement already satisfied: attrs>=17 in /usr/local/lib/python3.7/dist-packages (from fiona>=1.8->geopandas>=0.10->osmnx) (21.4.0)\n",
            "Requirement already satisfied: six>=1.7 in /usr/local/lib/python3.7/dist-packages (from fiona>=1.8->geopandas>=0.10->osmnx) (1.15.0)\n",
            "Requirement already satisfied: pyparsing>=2.2.1 in /usr/local/lib/python3.7/dist-packages (from matplotlib>=3.4->osmnx) (3.0.9)\n",
            "Requirement already satisfied: packaging>=20.0 in /usr/local/lib/python3.7/dist-packages (from matplotlib>=3.4->osmnx) (21.3)\n",
            "Requirement already satisfied: cycler>=0.10 in /usr/local/lib/python3.7/dist-packages (from matplotlib>=3.4->osmnx) (0.11.0)\n",
            "Requirement already satisfied: pillow>=6.2.0 in /usr/local/lib/python3.7/dist-packages (from matplotlib>=3.4->osmnx) (7.1.2)\n",
            "Requirement already satisfied: kiwisolver>=1.0.1 in /usr/local/lib/python3.7/dist-packages (from matplotlib>=3.4->osmnx) (1.4.3)\n",
            "Collecting fonttools>=4.22.0\n",
            "  Downloading fonttools-4.33.3-py3-none-any.whl (930 kB)\n",
            "\u001b[K     |████████████████████████████████| 930 kB 42.0 MB/s \n",
            "\u001b[?25hRequirement already satisfied: python-dateutil>=2.7 in /usr/local/lib/python3.7/dist-packages (from matplotlib>=3.4->osmnx) (2.8.2)\n",
            "Requirement already satisfied: typing-extensions in /usr/local/lib/python3.7/dist-packages (from kiwisolver>=1.0.1->matplotlib>=3.4->osmnx) (4.1.1)\n",
            "Requirement already satisfied: pytz>=2017.3 in /usr/local/lib/python3.7/dist-packages (from pandas>=1.3->osmnx) (2022.1)\n",
            "Requirement already satisfied: urllib3<1.27,>=1.21.1 in /usr/local/lib/python3.7/dist-packages (from requests>=2.26->osmnx) (1.24.3)\n",
            "Requirement already satisfied: charset-normalizer~=2.0.0 in /usr/local/lib/python3.7/dist-packages (from requests>=2.26->osmnx) (2.0.12)\n",
            "Requirement already satisfied: idna<4,>=2.5 in /usr/local/lib/python3.7/dist-packages (from requests>=2.26->osmnx) (2.10)\n",
            "Installing collected packages: munch, cligj, click-plugins, pyproj, fonttools, fiona, Rtree, requests, matplotlib, geopandas, osmnx\n",
            "  Attempting uninstall: requests\n",
            "    Found existing installation: requests 2.23.0\n",
            "    Uninstalling requests-2.23.0:\n",
            "      Successfully uninstalled requests-2.23.0\n",
            "  Attempting uninstall: matplotlib\n",
            "    Found existing installation: matplotlib 3.2.2\n",
            "    Uninstalling matplotlib-3.2.2:\n",
            "      Successfully uninstalled matplotlib-3.2.2\n",
            "\u001b[31mERROR: pip's dependency resolver does not currently take into account all the packages that are installed. This behaviour is the source of the following dependency conflicts.\n",
            "google-colab 1.0.0 requires requests~=2.23.0, but you have requests 2.28.0 which is incompatible.\n",
            "datascience 0.10.6 requires folium==0.2.1, but you have folium 0.8.3 which is incompatible.\n",
            "albumentations 0.1.12 requires imgaug<0.2.7,>=0.2.5, but you have imgaug 0.2.9 which is incompatible.\u001b[0m\n",
            "Successfully installed Rtree-1.0.0 click-plugins-1.1.1 cligj-0.7.2 fiona-1.8.21 fonttools-4.33.3 geopandas-0.10.2 matplotlib-3.5.2 munch-2.5.0 osmnx-1.1.2 pyproj-3.2.1 requests-2.28.0\n"
          ]
        },
        {
          "output_type": "display_data",
          "data": {
            "application/vnd.colab-display-data+json": {
              "pip_warning": {
                "packages": [
                  "matplotlib",
                  "mpl_toolkits"
                ]
              }
            }
          },
          "metadata": {}
        }
      ]
    },
    {
      "cell_type": "code",
      "source": [
        "!pip install geopandas"
      ],
      "metadata": {
        "colab": {
          "base_uri": "https://localhost:8080/"
        },
        "id": "T2nBWcB_oIXf",
        "outputId": "7aadcbe6-2519-4c7f-fd7b-8a6c7c3abbd9"
      },
      "execution_count": null,
      "outputs": [
        {
          "output_type": "stream",
          "name": "stdout",
          "text": [
            "Looking in indexes: https://pypi.org/simple, https://us-python.pkg.dev/colab-wheels/public/simple/\n",
            "Requirement already satisfied: geopandas in /usr/local/lib/python3.7/dist-packages (0.10.2)\n",
            "Requirement already satisfied: shapely>=1.6 in /usr/local/lib/python3.7/dist-packages (from geopandas) (1.8.2)\n",
            "Requirement already satisfied: fiona>=1.8 in /usr/local/lib/python3.7/dist-packages (from geopandas) (1.8.21)\n",
            "Requirement already satisfied: pandas>=0.25.0 in /usr/local/lib/python3.7/dist-packages (from geopandas) (1.3.5)\n",
            "Requirement already satisfied: pyproj>=2.2.0 in /usr/local/lib/python3.7/dist-packages (from geopandas) (3.2.1)\n",
            "Requirement already satisfied: setuptools in /usr/local/lib/python3.7/dist-packages (from fiona>=1.8->geopandas) (57.4.0)\n",
            "Requirement already satisfied: attrs>=17 in /usr/local/lib/python3.7/dist-packages (from fiona>=1.8->geopandas) (21.4.0)\n",
            "Requirement already satisfied: six>=1.7 in /usr/local/lib/python3.7/dist-packages (from fiona>=1.8->geopandas) (1.15.0)\n",
            "Requirement already satisfied: munch in /usr/local/lib/python3.7/dist-packages (from fiona>=1.8->geopandas) (2.5.0)\n",
            "Requirement already satisfied: cligj>=0.5 in /usr/local/lib/python3.7/dist-packages (from fiona>=1.8->geopandas) (0.7.2)\n",
            "Requirement already satisfied: click-plugins>=1.0 in /usr/local/lib/python3.7/dist-packages (from fiona>=1.8->geopandas) (1.1.1)\n",
            "Requirement already satisfied: click>=4.0 in /usr/local/lib/python3.7/dist-packages (from fiona>=1.8->geopandas) (7.1.2)\n",
            "Requirement already satisfied: certifi in /usr/local/lib/python3.7/dist-packages (from fiona>=1.8->geopandas) (2022.6.15)\n",
            "Requirement already satisfied: numpy>=1.17.3 in /usr/local/lib/python3.7/dist-packages (from pandas>=0.25.0->geopandas) (1.21.6)\n",
            "Requirement already satisfied: python-dateutil>=2.7.3 in /usr/local/lib/python3.7/dist-packages (from pandas>=0.25.0->geopandas) (2.8.2)\n",
            "Requirement already satisfied: pytz>=2017.3 in /usr/local/lib/python3.7/dist-packages (from pandas>=0.25.0->geopandas) (2022.1)\n"
          ]
        }
      ]
    },
    {
      "cell_type": "code",
      "source": [
        "#Download the OSM data from Kamppi but this time include only such street segments that are meant for cars by specifying 'drive' into network_type:\n",
        "place_name = \"Kamppi, Helsinki, Finland\"\n",
        "graph = ox.graph_from_place(place_name, network_type='drive')"
      ],
      "metadata": {
        "id": "lfDasEHgoAqd"
      },
      "execution_count": null,
      "outputs": []
    },
    {
      "cell_type": "code",
      "source": [
        "#Plot the graph:\n",
        "fig, ax = ox.plot_graph(graph)"
      ],
      "metadata": {
        "colab": {
          "base_uri": "https://localhost:8080/",
          "height": 446
        },
        "id": "QvkKzfzaoAsg",
        "outputId": "9393c87f-91e8-4443-e27b-74b37a01b3c9"
      },
      "execution_count": null,
      "outputs": [
        {
          "output_type": "display_data",
          "data": {
            "text/plain": [
              "<Figure size 576x576 with 1 Axes>"
            ],
            "image/png": "[encoded data removed]"
          },
          "metadata": {}
        }
      ]
    },
    {
      "cell_type": "code",
      "source": [],
      "metadata": {
        "id": "0JEfeBA6oAuc"
      },
      "execution_count": null,
      "outputs": []
    },
    {
      "cell_type": "markdown",
      "source": [
        "Okey so now we have retrieved only such streets where it is possible to drive with a car. Let’s confirm this by taking a look at the attributes of the street network. Easiest way to do this is to convert the graph (nodes and edges) into GeoDataFrames.\n",
        "\n",
        "Converting graph into a GeoDataFrame can be done with function graph_to_gdfs() that we already used in previous tutorial. With parameters nodes and edges, it is possible to control whether to retrieve both nodes and edges from the graph\n"
      ],
      "metadata": {
        "id": "KTW0ihw5pJlS"
      }
    },
    {
      "cell_type": "code",
      "source": [
        "# Retrieve only edges from the graph\n",
        "edges = ox.graph_to_gdfs(graph, nodes=False, edges=True)"
      ],
      "metadata": {
        "id": "u05PewHvoAwe"
      },
      "execution_count": null,
      "outputs": []
    },
    {
      "cell_type": "code",
      "source": [
        "# Check columns\n",
        "edges.columns"
      ],
      "metadata": {
        "id": "Nw2w0084pp48"
      },
      "execution_count": null,
      "outputs": []
    },
    {
      "cell_type": "code",
      "source": [
        "# Check crs\n",
        "edges.crs"
      ],
      "metadata": {
        "colab": {
          "base_uri": "https://localhost:8080/"
        },
        "id": "CzdqJBXOpp9L",
        "outputId": "c08a1c35-1598-4503-859e-fa3fde01ff92"
      },
      "execution_count": null,
      "outputs": [
        {
          "output_type": "execute_result",
          "data": {
            "text/plain": [
              "<Geographic 2D CRS: EPSG:4326>\n",
              "Name: WGS 84\n",
              "Axis Info [ellipsoidal]:\n",
              "- Lat[north]: Geodetic latitude (degree)\n",
              "- Lon[east]: Geodetic longitude (degree)\n",
              "Area of Use:\n",
              "- name: World.\n",
              "- bounds: (-180.0, -90.0, 180.0, 90.0)\n",
              "Datum: World Geodetic System 1984 ensemble\n",
              "- Ellipsoid: WGS 84\n",
              "- Prime Meridian: Greenwich"
            ]
          },
          "metadata": {},
          "execution_count": 7
        }
      ]
    },
    {
      "cell_type": "code",
      "source": [
        "edges.head()"
      ],
      "metadata": {
        "colab": {
          "base_uri": "https://localhost:8080/",
          "height": 513
        },
        "id": "RCyHb8ZVpqA6",
        "outputId": "560a6bff-b11b-47ef-8b0a-a432480b58f9"
      },
      "execution_count": null,
      "outputs": [
        {
          "output_type": "execute_result",
          "data": {
            "text/plain": [
              "                                                                     osmid  \\\n",
              "u        v          key                                                      \n",
              "25216594 1372425714 0                                             23856784   \n",
              "25238874 1372425713 0                                 [29977177, 30470347]   \n",
              "25238944 25216594   0                                 [372440330, 8135861]   \n",
              "         319896278  0            [25514547, 677423564, 30288797, 30288799]   \n",
              "25291537 25291591   0    [30568275, 36729015, 316590744, 316590745, 316...   \n",
              "\n",
              "                         oneway   lanes            name   highway maxspeed  \\\n",
              "u        v          key                                                      \n",
              "25216594 1372425714 0      True       2  Mechelininkatu   primary       40   \n",
              "25238874 1372425713 0      True       3  Mechelininkatu   primary       40   \n",
              "25238944 25216594   0      True       2             NaN   primary       40   \n",
              "         319896278  0      True  [2, 3]  Mechelininkatu   primary       40   \n",
              "25291537 25291591   0      True     NaN   Fredrikinkatu  tertiary       30   \n",
              "\n",
              "                          length  \\\n",
              "u        v          key            \n",
              "25216594 1372425714 0     40.885   \n",
              "25238874 1372425713 0     16.601   \n",
              "25238944 25216594   0     25.190   \n",
              "         319896278  0    242.476   \n",
              "25291537 25291591   0    139.090   \n",
              "\n",
              "                                                                  geometry  \\\n",
              "u        v          key                                                      \n",
              "25216594 1372425714 0    LINESTRING (24.92106 60.16479, 24.92095 60.164...   \n",
              "25238874 1372425713 0    LINESTRING (24.92103 60.16366, 24.92104 60.163...   \n",
              "25238944 25216594   0    LINESTRING (24.92129 60.16463, 24.92127 60.164...   \n",
              "         319896278  0    LINESTRING (24.92129 60.16463, 24.92136 60.164...   \n",
              "25291537 25291591   0    LINESTRING (24.93702 60.16433, 24.93700 60.164...   \n",
              "\n",
              "                        junction bridge access  \n",
              "u        v          key                         \n",
              "25216594 1372425714 0        NaN    NaN    NaN  \n",
              "25238874 1372425713 0        NaN    NaN    NaN  \n",
              "25238944 25216594   0        yes    NaN    NaN  \n",
              "         319896278  0        NaN    NaN    NaN  \n",
              "25291537 25291591   0        NaN    NaN    NaN  "
            ],
            "text/html": [
              "\n",
              "  <div id=\"df-5e982122-5dc5-475d-8df0-65d1969268fe\">\n",
              "    <div class=\"colab-df-container\">\n",
              "      <div>\n",
              "<style scoped>\n",
              "    .dataframe tbody tr th:only-of-type {\n",
              "        vertical-align: middle;\n",
              "    }\n",
              "\n",
              "    .dataframe tbody tr th {\n",
              "        vertical-align: top;\n",
              "    }\n",
              "\n",
              "    .dataframe thead th {\n",
              "        text-align: right;\n",
              "    }\n",
              "</style>\n",
              "<table border=\"1\" class=\"dataframe\">\n",
              "  <thead>\n",
              "    <tr style=\"text-align: right;\">\n",
              "      <th></th>\n",
              "      <th></th>\n",
              "      <th></th>\n",
              "      <th>osmid</th>\n",
              "      <th>oneway</th>\n",
              "      <th>lanes</th>\n",
              "      <th>name</th>\n",
              "      <th>highway</th>\n",
              "      <th>maxspeed</th>\n",
              "      <th>length</th>\n",
              "      <th>geometry</th>\n",
              "      <th>junction</th>\n",
              "      <th>bridge</th>\n",
              "      <th>access</th>\n",
              "    </tr>\n",
              "    <tr>\n",
              "      <th>u</th>\n",
              "      <th>v</th>\n",
              "      <th>key</th>\n",
              "      <th></th>\n",
              "      <th></th>\n",
              "      <th></th>\n",
              "      <th></th>\n",
              "      <th></th>\n",
              "      <th></th>\n",
              "      <th></th>\n",
              "      <th></th>\n",
              "      <th></th>\n",
              "      <th></th>\n",
              "      <th></th>\n",
              "    </tr>\n",
              "  </thead>\n",
              "  <tbody>\n",
              "    <tr>\n",
              "      <th>25216594</th>\n",
              "      <th>1372425714</th>\n",
              "      <th>0</th>\n",
              "      <td>23856784</td>\n",
              "      <td>True</td>\n",
              "      <td>2</td>\n",
              "      <td>Mechelininkatu</td>\n",
              "      <td>primary</td>\n",
              "      <td>40</td>\n",
              "      <td>40.885</td>\n",
              "      <td>LINESTRING (24.92106 60.16479, 24.92095 60.164...</td>\n",
              "      <td>NaN</td>\n",
              "      <td>NaN</td>\n",
              "      <td>NaN</td>\n",
              "    </tr>\n",
              "    <tr>\n",
              "      <th>25238874</th>\n",
              "      <th>1372425713</th>\n",
              "      <th>0</th>\n",
              "      <td>[29977177, 30470347]</td>\n",
              "      <td>True</td>\n",
              "      <td>3</td>\n",
              "      <td>Mechelininkatu</td>\n",
              "      <td>primary</td>\n",
              "      <td>40</td>\n",
              "      <td>16.601</td>\n",
              "      <td>LINESTRING (24.92103 60.16366, 24.92104 60.163...</td>\n",
              "      <td>NaN</td>\n",
              "      <td>NaN</td>\n",
              "      <td>NaN</td>\n",
              "    </tr>\n",
              "    <tr>\n",
              "      <th rowspan=\"2\" valign=\"top\">25238944</th>\n",
              "      <th>25216594</th>\n",
              "      <th>0</th>\n",
              "      <td>[372440330, 8135861]</td>\n",
              "      <td>True</td>\n",
              "      <td>2</td>\n",
              "      <td>NaN</td>\n",
              "      <td>primary</td>\n",
              "      <td>40</td>\n",
              "      <td>25.190</td>\n",
              "      <td>LINESTRING (24.92129 60.16463, 24.92127 60.164...</td>\n",
              "      <td>yes</td>\n",
              "      <td>NaN</td>\n",
              "      <td>NaN</td>\n",
              "    </tr>\n",
              "    <tr>\n",
              "      <th>319896278</th>\n",
              "      <th>0</th>\n",
              "      <td>[25514547, 677423564, 30288797, 30288799]</td>\n",
              "      <td>True</td>\n",
              "      <td>[2, 3]</td>\n",
              "      <td>Mechelininkatu</td>\n",
              "      <td>primary</td>\n",
              "      <td>40</td>\n",
              "      <td>242.476</td>\n",
              "      <td>LINESTRING (24.92129 60.16463, 24.92136 60.164...</td>\n",
              "      <td>NaN</td>\n",
              "      <td>NaN</td>\n",
              "      <td>NaN</td>\n",
              "    </tr>\n",
              "    <tr>\n",
              "      <th>25291537</th>\n",
              "      <th>25291591</th>\n",
              "      <th>0</th>\n",
              "      <td>[30568275, 36729015, 316590744, 316590745, 316...</td>\n",
              "      <td>True</td>\n",
              "      <td>NaN</td>\n",
              "      <td>Fredrikinkatu</td>\n",
              "      <td>tertiary</td>\n",
              "      <td>30</td>\n",
              "      <td>139.090</td>\n",
              "      <td>LINESTRING (24.93702 60.16433, 24.93700 60.164...</td>\n",
              "      <td>NaN</td>\n",
              "      <td>NaN</td>\n",
              "      <td>NaN</td>\n",
              "    </tr>\n",
              "  </tbody>\n",
              "</table>\n",
              "</div>\n",
              "      <button class=\"colab-df-convert\" onclick=\"convertToInteractive('df-5e982122-5dc5-475d-8df0-65d1969268fe')\"\n",
              "              title=\"Convert this dataframe to an interactive table.\"\n",
              "              style=\"display:none;\">\n",
              "        \n",
              "  <svg xmlns=\"http://www.w3.org/2000/svg\" height=\"24px\"viewBox=\"0 0 24 24\"\n",
              "       width=\"24px\">\n",
              "    <path d=\"M0 0h24v24H0V0z\" fill=\"none\"/>\n",
              "    <path d=\"M18.56 5.44l.94 2.06.94-2.06 2.06-.94-2.06-.94-.94-2.06-.94 2.06-2.06.94zm-11 1L8.5 8.5l.94-2.06 2.06-.94-2.06-.94L8.5 2.5l-.94 2.06-2.06.94zm10 10l.94 2.06.94-2.06 2.06-.94-2.06-.94-.94-2.06-.94 2.06-2.06.94z\"/><path d=\"M17.41 7.96l-1.37-1.37c-.4-.4-.92-.59-1.43-.59-.52 0-1.04.2-1.43.59L10.3 9.45l-7.72 7.72c-.78.78-.78 2.05 0 2.83L4 21.41c.39.39.9.59 1.41.59.51 0 1.02-.2 1.41-.59l7.78-7.78 2.81-2.81c.8-.78.8-2.07 0-2.86zM5.41 20L4 18.59l7.72-7.72 1.47 1.35L5.41 20z\"/>\n",
              "  </svg>\n",
              "      </button>\n",
              "      \n",
              "  <style>\n",
              "    .colab-df-container {\n",
              "      display:flex;\n",
              "      flex-wrap:wrap;\n",
              "      gap: 12px;\n",
              "    }\n",
              "\n",
              "    .colab-df-convert {\n",
              "      background-color: #E8F0FE;\n",
              "      border: none;\n",
              "      border-radius: 50%;\n",
              "      cursor: pointer;\n",
              "      display: none;\n",
              "      fill: #1967D2;\n",
              "      height: 32px;\n",
              "      padding: 0 0 0 0;\n",
              "      width: 32px;\n",
              "    }\n",
              "\n",
              "    .colab-df-convert:hover {\n",
              "      background-color: #E2EBFA;\n",
              "      box-shadow: 0px 1px 2px rgba(60, 64, 67, 0.3), 0px 1px 3px 1px rgba(60, 64, 67, 0.15);\n",
              "      fill: #174EA6;\n",
              "    }\n",
              "\n",
              "    [theme=dark] .colab-df-convert {\n",
              "      background-color: #3B4455;\n",
              "      fill: #D2E3FC;\n",
              "    }\n",
              "\n",
              "    [theme=dark] .colab-df-convert:hover {\n",
              "      background-color: #434B5C;\n",
              "      box-shadow: 0px 1px 3px 1px rgba(0, 0, 0, 0.15);\n",
              "      filter: drop-shadow(0px 1px 2px rgba(0, 0, 0, 0.3));\n",
              "      fill: #FFFFFF;\n",
              "    }\n",
              "  </style>\n",
              "\n",
              "      <script>\n",
              "        const buttonEl =\n",
              "          document.querySelector('#df-5e982122-5dc5-475d-8df0-65d1969268fe button.colab-df-convert');\n",
              "        buttonEl.style.display =\n",
              "          google.colab.kernel.accessAllowed ? 'block' : 'none';\n",
              "\n",
              "        async function convertToInteractive(key) {\n",
              "          const element = document.querySelector('#df-5e982122-5dc5-475d-8df0-65d1969268fe');\n",
              "          const dataTable =\n",
              "            await google.colab.kernel.invokeFunction('convertToInteractive',\n",
              "                                                     [key], {});\n",
              "          if (!dataTable) return;\n",
              "\n",
              "          const docLinkHtml = 'Like what you see? Visit the ' +\n",
              "            '<a target=\"_blank\" href=https://colab.research.google.com/notebooks/data_table.ipynb>data table notebook</a>'\n",
              "            + ' to learn more about interactive tables.';\n",
              "          element.innerHTML = '';\n",
              "          dataTable['output_type'] = 'display_data';\n",
              "          await google.colab.output.renderOutput(dataTable, element);\n",
              "          const docLink = document.createElement('div');\n",
              "          docLink.innerHTML = docLinkHtml;\n",
              "          element.appendChild(docLink);\n",
              "        }\n",
              "      </script>\n",
              "    </div>\n",
              "  </div>\n",
              "  "
            ]
          },
          "metadata": {},
          "execution_count": 6
        }
      ]
    },
    {
      "cell_type": "markdown",
      "source": [
        "Let’s take a look what kind of features we have in the highway column:"
      ],
      "metadata": {
        "id": "ZRqyEPOAqJmt"
      }
    },
    {
      "cell_type": "code",
      "source": [
        "print(edges['highway'].value_counts())"
      ],
      "metadata": {
        "colab": {
          "base_uri": "https://localhost:8080/"
        },
        "id": "NV7ElssJpqHh",
        "outputId": "a0f2e929-127d-4326-8f23-15a562ddf295"
      },
      "execution_count": null,
      "outputs": [
        {
          "output_type": "stream",
          "name": "stdout",
          "text": [
            "residential      113\n",
            "tertiary          78\n",
            "primary           26\n",
            "secondary         17\n",
            "unclassified      10\n",
            "living_street      4\n",
            "primary_link       1\n",
            "Name: highway, dtype: int64\n"
          ]
        }
      ]
    },
    {
      "cell_type": "code",
      "source": [],
      "metadata": {
        "id": "0x7GwdQJqgq7"
      },
      "execution_count": null,
      "outputs": []
    },
    {
      "cell_type": "markdown",
      "source": [
        "Okey, now we can confirm that as a result our street network indeed only contains such streets where it is allowed to drive with a car as there are no e.g. cycleways or footways included in the data.\n",
        "\n",
        "Let’s continue and find the shortest path between two points based on the distance. As the data is in WGS84 format, we should first reproject our data into a metric system. We can re-project the graph from latitudes and longitudes to an appropriate UTM zone using the project_graph() function from OSMnx.\n",
        "\n",
        "Project the graph:"
      ],
      "metadata": {
        "id": "DKXJNnY0q3V_"
      }
    },
    {
      "cell_type": "code",
      "source": [
        "graph_proj = ox.project_graph(graph)\n",
        "fig, ax = ox.plot_graph(graph_proj)"
      ],
      "metadata": {
        "colab": {
          "base_uri": "https://localhost:8080/",
          "height": 439
        },
        "id": "v527oB7jqguQ",
        "outputId": "987f17cf-d915-45d6-b9b3-aa0d2aeb1502"
      },
      "execution_count": null,
      "outputs": [
        {
          "output_type": "display_data",
          "data": {
            "text/plain": [
              "<Figure size 576x576 with 1 Axes>"
            ],
            "image/png": "[encoded data removed]"
          },
          "metadata": {}
        }
      ]
    },
    {
      "cell_type": "code",
      "source": [
        "# Get Edges and Nodes\n",
        "nodes_proj, edges_proj = ox.graph_to_gdfs(graph_proj, nodes=True, edges=True)"
      ],
      "metadata": {
        "id": "IM1mDlQJqgxy"
      },
      "execution_count": null,
      "outputs": []
    },
    {
      "cell_type": "code",
      "source": [
        "\n",
        "print(\"Coordinate system:\", edges_proj.crs)"
      ],
      "metadata": {
        "colab": {
          "base_uri": "https://localhost:8080/"
        },
        "id": "460xJlymqg1T",
        "outputId": "2cd41229-eecd-46d0-e5ab-d8c782d7f52b"
      },
      "execution_count": null,
      "outputs": [
        {
          "output_type": "stream",
          "name": "stdout",
          "text": [
            "Coordinate system: +proj=utm +zone=35 +ellps=WGS84 +datum=WGS84 +units=m +no_defs +type=crs\n"
          ]
        }
      ]
    },
    {
      "cell_type": "code",
      "source": [
        "edges_proj.head()"
      ],
      "metadata": {
        "colab": {
          "base_uri": "https://localhost:8080/",
          "height": 368
        },
        "id": "B9LH5iz0qg4p",
        "outputId": "1124736a-64b0-42d3-a77b-4d82cd69e169"
      },
      "execution_count": null,
      "outputs": [
        {
          "output_type": "execute_result",
          "data": {
            "text/plain": [
              "                                                             osmid  oneway  \\\n",
              "u          v          key                                                    \n",
              "25216594   1372425714 0                                   23856784    True   \n",
              "1372425714 25238874   0    [78537378, 8169098, 29081876, 78537375]    True   \n",
              "           1372425718 0                                   29066052    True   \n",
              "25238874   1372425713 0                       [29977177, 30470347]    True   \n",
              "1372425713 568147264  0                                   57839670    True   \n",
              "\n",
              "                            lanes            name   highway maxspeed  length  \\\n",
              "u          v          key                                                      \n",
              "25216594   1372425714 0         2  Mechelininkatu   primary       40  40.885   \n",
              "1372425714 25238874   0    [2, 3]  Mechelininkatu   primary       40  85.540   \n",
              "           1372425718 0         2             NaN   primary       40  20.591   \n",
              "25238874   1372425713 0         3  Mechelininkatu   primary       40  16.601   \n",
              "1372425713 568147264  0       NaN    Itämerenkatu  tertiary       40  20.414   \n",
              "\n",
              "                                                                    geometry  \\\n",
              "u          v          key                                                      \n",
              "25216594   1372425714 0    LINESTRING (384631.322 6671580.071, 384624.750...   \n",
              "1372425714 25238874   0    LINESTRING (384624.179 6671539.986, 384623.768...   \n",
              "           1372425718 0    LINESTRING (384624.179 6671539.986, 384627.284...   \n",
              "25238874   1372425713 0    LINESTRING (384625.787 6671454.380, 384626.281...   \n",
              "1372425713 568147264  0    LINESTRING (384627.187 6671437.809, 384646.250...   \n",
              "\n",
              "                          junction bridge access  \n",
              "u          v          key                         \n",
              "25216594   1372425714 0        NaN    NaN    NaN  \n",
              "1372425714 25238874   0        NaN    NaN    NaN  \n",
              "           1372425718 0        yes    NaN    NaN  \n",
              "25238874   1372425713 0        NaN    NaN    NaN  \n",
              "1372425713 568147264  0        NaN    NaN    NaN  "
            ],
            "text/html": [
              "\n",
              "  <div id=\"df-7b5c5bc8-f412-43a7-9bde-49e9bde54064\">\n",
              "    <div class=\"colab-df-container\">\n",
              "      <div>\n",
              "<style scoped>\n",
              "    .dataframe tbody tr th:only-of-type {\n",
              "        vertical-align: middle;\n",
              "    }\n",
              "\n",
              "    .dataframe tbody tr th {\n",
              "        vertical-align: top;\n",
              "    }\n",
              "\n",
              "    .dataframe thead th {\n",
              "        text-align: right;\n",
              "    }\n",
              "</style>\n",
              "<table border=\"1\" class=\"dataframe\">\n",
              "  <thead>\n",
              "    <tr style=\"text-align: right;\">\n",
              "      <th></th>\n",
              "      <th></th>\n",
              "      <th></th>\n",
              "      <th>osmid</th>\n",
              "      <th>oneway</th>\n",
              "      <th>lanes</th>\n",
              "      <th>name</th>\n",
              "      <th>highway</th>\n",
              "      <th>maxspeed</th>\n",
              "      <th>length</th>\n",
              "      <th>geometry</th>\n",
              "      <th>junction</th>\n",
              "      <th>bridge</th>\n",
              "      <th>access</th>\n",
              "    </tr>\n",
              "    <tr>\n",
              "      <th>u</th>\n",
              "      <th>v</th>\n",
              "      <th>key</th>\n",
              "      <th></th>\n",
              "      <th></th>\n",
              "      <th></th>\n",
              "      <th></th>\n",
              "      <th></th>\n",
              "      <th></th>\n",
              "      <th></th>\n",
              "      <th></th>\n",
              "      <th></th>\n",
              "      <th></th>\n",
              "      <th></th>\n",
              "    </tr>\n",
              "  </thead>\n",
              "  <tbody>\n",
              "    <tr>\n",
              "      <th>25216594</th>\n",
              "      <th>1372425714</th>\n",
              "      <th>0</th>\n",
              "      <td>23856784</td>\n",
              "      <td>True</td>\n",
              "      <td>2</td>\n",
              "      <td>Mechelininkatu</td>\n",
              "      <td>primary</td>\n",
              "      <td>40</td>\n",
              "      <td>40.885</td>\n",
              "      <td>LINESTRING (384631.322 6671580.071, 384624.750...</td>\n",
              "      <td>NaN</td>\n",
              "      <td>NaN</td>\n",
              "      <td>NaN</td>\n",
              "    </tr>\n",
              "    <tr>\n",
              "      <th rowspan=\"2\" valign=\"top\">1372425714</th>\n",
              "      <th>25238874</th>\n",
              "      <th>0</th>\n",
              "      <td>[78537378, 8169098, 29081876, 78537375]</td>\n",
              "      <td>True</td>\n",
              "      <td>[2, 3]</td>\n",
              "      <td>Mechelininkatu</td>\n",
              "      <td>primary</td>\n",
              "      <td>40</td>\n",
              "      <td>85.540</td>\n",
              "      <td>LINESTRING (384624.179 6671539.986, 384623.768...</td>\n",
              "      <td>NaN</td>\n",
              "      <td>NaN</td>\n",
              "      <td>NaN</td>\n",
              "    </tr>\n",
              "    <tr>\n",
              "      <th>1372425718</th>\n",
              "      <th>0</th>\n",
              "      <td>29066052</td>\n",
              "      <td>True</td>\n",
              "      <td>2</td>\n",
              "      <td>NaN</td>\n",
              "      <td>primary</td>\n",
              "      <td>40</td>\n",
              "      <td>20.591</td>\n",
              "      <td>LINESTRING (384624.179 6671539.986, 384627.284...</td>\n",
              "      <td>yes</td>\n",
              "      <td>NaN</td>\n",
              "      <td>NaN</td>\n",
              "    </tr>\n",
              "    <tr>\n",
              "      <th>25238874</th>\n",
              "      <th>1372425713</th>\n",
              "      <th>0</th>\n",
              "      <td>[29977177, 30470347]</td>\n",
              "      <td>True</td>\n",
              "      <td>3</td>\n",
              "      <td>Mechelininkatu</td>\n",
              "      <td>primary</td>\n",
              "      <td>40</td>\n",
              "      <td>16.601</td>\n",
              "      <td>LINESTRING (384625.787 6671454.380, 384626.281...</td>\n",
              "      <td>NaN</td>\n",
              "      <td>NaN</td>\n",
              "      <td>NaN</td>\n",
              "    </tr>\n",
              "    <tr>\n",
              "      <th>1372425713</th>\n",
              "      <th>568147264</th>\n",
              "      <th>0</th>\n",
              "      <td>57839670</td>\n",
              "      <td>True</td>\n",
              "      <td>NaN</td>\n",
              "      <td>Itämerenkatu</td>\n",
              "      <td>tertiary</td>\n",
              "      <td>40</td>\n",
              "      <td>20.414</td>\n",
              "      <td>LINESTRING (384627.187 6671437.809, 384646.250...</td>\n",
              "      <td>NaN</td>\n",
              "      <td>NaN</td>\n",
              "      <td>NaN</td>\n",
              "    </tr>\n",
              "  </tbody>\n",
              "</table>\n",
              "</div>\n",
              "      <button class=\"colab-df-convert\" onclick=\"convertToInteractive('df-7b5c5bc8-f412-43a7-9bde-49e9bde54064')\"\n",
              "              title=\"Convert this dataframe to an interactive table.\"\n",
              "              style=\"display:none;\">\n",
              "        \n",
              "  <svg xmlns=\"http://www.w3.org/2000/svg\" height=\"24px\"viewBox=\"0 0 24 24\"\n",
              "       width=\"24px\">\n",
              "    <path d=\"M0 0h24v24H0V0z\" fill=\"none\"/>\n",
              "    <path d=\"M18.56 5.44l.94 2.06.94-2.06 2.06-.94-2.06-.94-.94-2.06-.94 2.06-2.06.94zm-11 1L8.5 8.5l.94-2.06 2.06-.94-2.06-.94L8.5 2.5l-.94 2.06-2.06.94zm10 10l.94 2.06.94-2.06 2.06-.94-2.06-.94-.94-2.06-.94 2.06-2.06.94z\"/><path d=\"M17.41 7.96l-1.37-1.37c-.4-.4-.92-.59-1.43-.59-.52 0-1.04.2-1.43.59L10.3 9.45l-7.72 7.72c-.78.78-.78 2.05 0 2.83L4 21.41c.39.39.9.59 1.41.59.51 0 1.02-.2 1.41-.59l7.78-7.78 2.81-2.81c.8-.78.8-2.07 0-2.86zM5.41 20L4 18.59l7.72-7.72 1.47 1.35L5.41 20z\"/>\n",
              "  </svg>\n",
              "      </button>\n",
              "      \n",
              "  <style>\n",
              "    .colab-df-container {\n",
              "      display:flex;\n",
              "      flex-wrap:wrap;\n",
              "      gap: 12px;\n",
              "    }\n",
              "\n",
              "    .colab-df-convert {\n",
              "      background-color: #E8F0FE;\n",
              "      border: none;\n",
              "      border-radius: 50%;\n",
              "      cursor: pointer;\n",
              "      display: none;\n",
              "      fill: #1967D2;\n",
              "      height: 32px;\n",
              "      padding: 0 0 0 0;\n",
              "      width: 32px;\n",
              "    }\n",
              "\n",
              "    .colab-df-convert:hover {\n",
              "      background-color: #E2EBFA;\n",
              "      box-shadow: 0px 1px 2px rgba(60, 64, 67, 0.3), 0px 1px 3px 1px rgba(60, 64, 67, 0.15);\n",
              "      fill: #174EA6;\n",
              "    }\n",
              "\n",
              "    [theme=dark] .colab-df-convert {\n",
              "      background-color: #3B4455;\n",
              "      fill: #D2E3FC;\n",
              "    }\n",
              "\n",
              "    [theme=dark] .colab-df-convert:hover {\n",
              "      background-color: #434B5C;\n",
              "      box-shadow: 0px 1px 3px 1px rgba(0, 0, 0, 0.15);\n",
              "      filter: drop-shadow(0px 1px 2px rgba(0, 0, 0, 0.3));\n",
              "      fill: #FFFFFF;\n",
              "    }\n",
              "  </style>\n",
              "\n",
              "      <script>\n",
              "        const buttonEl =\n",
              "          document.querySelector('#df-7b5c5bc8-f412-43a7-9bde-49e9bde54064 button.colab-df-convert');\n",
              "        buttonEl.style.display =\n",
              "          google.colab.kernel.accessAllowed ? 'block' : 'none';\n",
              "\n",
              "        async function convertToInteractive(key) {\n",
              "          const element = document.querySelector('#df-7b5c5bc8-f412-43a7-9bde-49e9bde54064');\n",
              "          const dataTable =\n",
              "            await google.colab.kernel.invokeFunction('convertToInteractive',\n",
              "                                                     [key], {});\n",
              "          if (!dataTable) return;\n",
              "\n",
              "          const docLinkHtml = 'Like what you see? Visit the ' +\n",
              "            '<a target=\"_blank\" href=https://colab.research.google.com/notebooks/data_table.ipynb>data table notebook</a>'\n",
              "            + ' to learn more about interactive tables.';\n",
              "          element.innerHTML = '';\n",
              "          dataTable['output_type'] = 'display_data';\n",
              "          await google.colab.output.renderOutput(dataTable, element);\n",
              "          const docLink = document.createElement('div');\n",
              "          docLink.innerHTML = docLinkHtml;\n",
              "          element.appendChild(docLink);\n",
              "        }\n",
              "      </script>\n",
              "    </div>\n",
              "  </div>\n",
              "  "
            ]
          },
          "metadata": {},
          "execution_count": 14
        }
      ]
    },
    {
      "cell_type": "code",
      "source": [],
      "metadata": {
        "id": "z_4GXWgAroxc"
      },
      "execution_count": null,
      "outputs": []
    },
    {
      "cell_type": "markdown",
      "source": [
        "we can check the epsg code of this projection using pyproj"
      ],
      "metadata": {
        "id": "UVt4R66erpag"
      }
    },
    {
      "cell_type": "code",
      "source": [
        "from pyproj import CRS\n",
        "CRS(edges_proj.crs).to_epsg()"
      ],
      "metadata": {
        "colab": {
          "base_uri": "https://localhost:8080/"
        },
        "id": "55OQs0f8qg92",
        "outputId": "d6f220fd-acb6-40f0-cd87-15c2e3e39de8"
      },
      "execution_count": null,
      "outputs": [
        {
          "output_type": "execute_result",
          "data": {
            "text/plain": [
              "32635"
            ]
          },
          "metadata": {},
          "execution_count": 15
        }
      ]
    },
    {
      "cell_type": "markdown",
      "source": [
        "# Analyzing the network properties\n",
        "Now as we have seen some of the basic functionalities of OSMnx such as downloading the data and converting data from graph to GeoDataFrame, we can take a look some of the analytical features of omsnx. Osmnx includes many useful functionalities to extract information about the network."
      ],
      "metadata": {
        "id": "3WP7Str0rxZZ"
      }
    },
    {
      "cell_type": "code",
      "source": [
        "#To calculate some of the basic street network measures we can use basic_stats() function in OSMnx:"
      ],
      "metadata": {
        "id": "CZ1SJlp5r-uQ"
      },
      "execution_count": null,
      "outputs": []
    },
    {
      "cell_type": "code",
      "source": [
        "# Calculate network statistics\n",
        "stats = ox.basic_stats(graph_proj, circuity_dist='euclidean')\n",
        "stats"
      ],
      "metadata": {
        "colab": {
          "base_uri": "https://localhost:8080/"
        },
        "id": "-8gjGuoSr-9-",
        "outputId": "5302a6cc-7d89-4f9a-d0d1-9c59f12187e0"
      },
      "execution_count": null,
      "outputs": [
        {
          "output_type": "stream",
          "name": "stderr",
          "text": [
            "/usr/local/lib/python3.7/dist-packages/osmnx/stats.py:370: UserWarning: The `circuity_dist` argument has been deprecated and will be removed in a future release.\n",
            "  warnings.warn(msg)\n"
          ]
        },
        {
          "output_type": "execute_result",
          "data": {
            "text/plain": [
              "{'circuity_avg': 1.023868048158287,\n",
              " 'edge_length_avg': 80.27632530120486,\n",
              " 'edge_length_total': 19988.80500000001,\n",
              " 'intersection_count': 116,\n",
              " 'k_avg': 4.016129032258065,\n",
              " 'm': 249,\n",
              " 'n': 124,\n",
              " 'self_loop_proportion': 0.0,\n",
              " 'street_length_avg': 74.69278142076502,\n",
              " 'street_length_total': 13668.778999999999,\n",
              " 'street_segment_count': 183,\n",
              " 'streets_per_node_avg': 3.217741935483871,\n",
              " 'streets_per_node_counts': {0: 0, 1: 8, 2: 1, 3: 71, 4: 44},\n",
              " 'streets_per_node_proportions': {0: 0.0,\n",
              "  1: 0.06451612903225806,\n",
              "  2: 0.008064516129032258,\n",
              "  3: 0.5725806451612904,\n",
              "  4: 0.3548387096774194}}"
            ]
          },
          "metadata": {},
          "execution_count": 16
        }
      ]
    },
    {
      "cell_type": "code",
      "source": [],
      "metadata": {
        "id": "-VnsyyBDr_Cl"
      },
      "execution_count": null,
      "outputs": []
    },
    {
      "cell_type": "markdown",
      "source": [
        "to be able to extract the more advanced statistics (and some of the missing ones above) from the street network, it is required to have information about the coverage area of the network. Let’s calculate the area of the convex hull of the street network and see what we can get."
      ],
      "metadata": {
        "id": "mG9-kOqfsSoY"
      }
    },
    {
      "cell_type": "code",
      "source": [
        "\n",
        "# Get the Convex Hull of the network\n",
        "convex_hull = edges_proj.unary_union.convex_hull\n",
        "# Show output\n",
        "convex_hull"
      ],
      "metadata": {
        "colab": {
          "base_uri": "https://localhost:8080/",
          "height": 321
        },
        "id": "5QG5CAdBr_Kn",
        "outputId": "6c8c45c1-ff8b-40ee-b5db-ffaa6abcebd2"
      },
      "execution_count": null,
      "outputs": [
        {
          "output_type": "execute_result",
          "data": {
            "text/plain": [
              "<shapely.geometry.polygon.Polygon at 0x7f9fccbfa990>"
            ],
            "image/svg+xml": "<svg xmlns=\"http://www.w3.org/2000/svg\" xmlns:xlink=\"http://www.w3.org/1999/xlink\" width=\"300\" height=\"300\" viewBox=\"384574.12422161805 6671093.0136215035 1330.1714883510722 1223.3089910317212\" preserveAspectRatio=\"xMinYMin meet\"><g transform=\"matrix(1,0,0,-1,0,13343409.336234039)\"><path fill-rule=\"evenodd\" fill=\"#66cc99\" stroke=\"#555555\" stroke-width=\"8.86780992234048\" opacity=\"0.6\" d=\"M 384887.7319536801,6671142.2792321835 L 384883.63732214435,6671142.597317775 L 384879.5025928329,6671143.407019107 L 384874.6134171016,6671144.953666562 L 384862.49321464007,6671149.703062389 L 384846.7081759518,6671156.250464548 L 384830.55097262113,6671163.678893966 L 384819.2577072032,6671169.817780623 L 384810.548805537,6671175.830884326 L 384799.8097661783,6671185.46288525 L 384787.90183166834,6671197.839752496 L 384743.85316015256,6671245.752737156 L 384735.2918974575,6671256.09654915 L 384727.49912411737,6671267.3857674645 L 384659.8583754331,6671369.992065999 L 384633.0996793158,6671411.455786523 L 384630.248874986,6671418.811690406 L 384628.10165789985,6671429.109849386 L 384627.1870488745,6671437.808982659 L 384624.5128871406,6671468.763145481 L 384623.92622339417,6671484.172020655 L 384623.38983229775,6671505.586139437 L 384624.16995266604,6671547.642789744 L 384629.5989824361,6671781.058284743 L 384629.8466572246,6671787.335923339 L 384630.97953189426,6671796.505516778 L 384633.3943610887,6671805.824194773 L 384997.32500632963,6672083.911938155 L 385005.4581702336,6672089.161916895 L 385285.23408373387,6672267.057001855 L 385431.07297831087,6672263.37285732 L 385453.99608750106,6672262.733936 L 385460.97191941144,6672262.437781863 L 385855.03009928943,6671721.810323974 L 385395.64087329013,6671421.571126892 L 385372.5008918552,6671406.570391574 L 384912.88220936153,6671147.774655972 L 384908.8428676396,6671145.962406893 L 384905.26491171494,6671144.692887574 L 384902.09145669546,6671143.9233061345 L 384896.8634921382,6671142.995375415 L 384891.6800090219,6671142.422673895 L 384887.7319536801,6671142.2792321835 z\" /></g></svg>"
          },
          "metadata": {},
          "execution_count": 17
        }
      ]
    },
    {
      "cell_type": "code",
      "source": [
        "# Calculate the area\n",
        "area = convex_hull.area\n",
        "\n",
        "# Calculate statistics with density information\n",
        "stats = ox.basic_stats(graph_proj, area=area)\n",
        "extended_stats = ox.extended_stats(graph_proj, ecc=True, cc=True)\n",
        "\n",
        "# Add extened statistics to the basic statistics\n",
        "for key, value in extended_stats.items():\n",
        "    stats[key] = value\n",
        "\n",
        "# Convert the dictionary to a Pandas series for a nicer output\n",
        "pd.Series(stats)"
      ],
      "metadata": {
        "colab": {
          "base_uri": "https://localhost:8080/"
        },
        "id": "36PNTA81r_QD",
        "outputId": "e4528abe-9ea0-406c-bf32-028ccc7ff6fe"
      },
      "execution_count": null,
      "outputs": [
        {
          "output_type": "stream",
          "name": "stderr",
          "text": [
            "/usr/local/lib/python3.7/dist-packages/osmnx/stats.py:458: UserWarning: The extended_stats function has been deprecated and will be removed in a future release. Use NetworkX directly for extended topological measures.\n",
            "  warnings.warn(msg)\n"
          ]
        },
        {
          "output_type": "execute_result",
          "data": {
            "text/plain": [
              "n                                                                                    124\n",
              "m                                                                                    249\n",
              "k_avg                                                                           4.016129\n",
              "edge_length_total                                                              19988.805\n",
              "edge_length_avg                                                                80.276325\n",
              "streets_per_node_avg                                                            3.217742\n",
              "streets_per_node_counts                                 {0: 0, 1: 8, 2: 1, 3: 71, 4: 44}\n",
              "streets_per_node_proportions           {0: 0.0, 1: 0.06451612903225806, 2: 0.00806451...\n",
              "intersection_count                                                                   116\n",
              "street_length_total                                                            13668.779\n",
              "street_segment_count                                                                 183\n",
              "street_length_avg                                                              74.692781\n",
              "circuity_avg                                                                    1.023868\n",
              "self_loop_proportion                                                                 0.0\n",
              "node_density_km                                                               148.883086\n",
              "intersection_density_km                                                       139.277726\n",
              "edge_density_km                                                              23999.95948\n",
              "street_density_km                                                           16411.693553\n",
              "avg_neighbor_degree                    {25216594: 2.0, 1372425714: 1.0, 25238874: 2.0...\n",
              "avg_neighbor_degree_avg                                                         2.143145\n",
              "avg_weighted_neighbor_degree           {25216594: 0.04891769597651951, 1372425714: 0....\n",
              "avg_weighted_neighbor_degree_avg                                                0.083853\n",
              "degree_centrality                      {25216594: 0.024390243902439025, 1372425714: 0...\n",
              "degree_centrality_avg                                                           0.032651\n",
              "clustering_coefficient                 {25216594: 0, 1372425714: 0, 25238874: 0, 1372...\n",
              "clustering_coefficient_avg                                                       0.09543\n",
              "clustering_coefficient_weighted        {25216594: 0, 1372425714: 0, 25238874: 0, 1372...\n",
              "clustering_coefficient_weighted_avg                                             0.016508\n",
              "pagerank                               {25216594: 0.008693470350763035, 1372425714: 0...\n",
              "pagerank_max_node                                                               25416262\n",
              "pagerank_max                                                                    0.023918\n",
              "pagerank_min_node                                                             1008183915\n",
              "pagerank_min                                                                    0.001429\n",
              "eccentricity                           {25216594: 1919.7790000000002, 1372425714: 187...\n",
              "diameter                                                                         2158.33\n",
              "radius                                                                          1007.063\n",
              "center                                                                      [1372376937]\n",
              "periphery                                                                    [319896278]\n",
              "closeness_centrality                   {25216594: 0.0009354011031222609, 1372425714: ...\n",
              "closeness_centrality_avg                                                        0.001435\n",
              "dtype: object"
            ]
          },
          "metadata": {},
          "execution_count": 18
        }
      ]
    },
    {
      "cell_type": "code",
      "source": [],
      "metadata": {
        "id": "zTX6VxIEr_Uj"
      },
      "execution_count": null,
      "outputs": []
    },
    {
      "cell_type": "markdown",
      "source": [
        "#Shortest path analysis\n",
        "Let’s now calculate the shortest path between two points using the shortest path function in Networkx. First we need to specify the source and target locations for our route. Let’s use the centroid of our network as the source location and the furthest point in East in our network as the target location."
      ],
      "metadata": {
        "id": "w2dDS21xwmsB"
      }
    },
    {
      "cell_type": "code",
      "source": [
        "\n",
        "#Let’s first determine the centroid of our network. We can take advantage of the same Convex Hull that we used previously to determine the centroid of our data.\n",
        "\n",
        "# Get the Convex Hull of the network\n",
        "convex_hull = edges_proj.unary_union.convex_hull\n",
        "\n",
        "# Centroid\n",
        "centroid = convex_hull.centroid\n",
        "\n",
        "# Show\n",
        "print(centroid)"
      ],
      "metadata": {
        "id": "7MG6XzDwwzGA"
      },
      "execution_count": null,
      "outputs": []
    },
    {
      "cell_type": "code",
      "source": [
        "#Let's now find the easternmost node in our street network. We can do this based on the x coordinates of the nodes:\n",
        "\n",
        "#Let’s find out which node has the largest x-coordinate value. First, let’s ensure that the values are floats:\n",
        "# Get the x coordinates of the nodes\n",
        "nodes_proj['x'] = nodes_proj[\"x\"].astype(float)\n",
        "# Retrieve the maximum x value (i.e. the most eastern)\n",
        "maxx = nodes_proj['x'].max()\n",
        "print(maxx)\n",
        "#Let’s retrieve the target Point having the largest x-coordinate. We can do this by using the .loc function of Pandas that we have used already many times in earlier tutorials.\n",
        "# Retrieve the node that is the most eastern one and get the Shapely Point geometry out of it\n",
        "target = nodes_proj.loc[nodes_proj['x']==maxx, 'geometry'].values[0]\n",
        "print(target)"
      ],
      "metadata": {
        "id": "KAuIqrwRwzL6"
      },
      "execution_count": null,
      "outputs": []
    },
    {
      "cell_type": "code",
      "source": [
        "# Get origin x and y coordinates\n",
        "orig_xy = (centroid.y, centroid.x)\n",
        "\n",
        "# Get target x and y coordinates\n",
        "target_xy = (target.y, target.x)"
      ],
      "metadata": {
        "id": "6Q-7KlNUUcla"
      },
      "execution_count": null,
      "outputs": []
    },
    {
      "cell_type": "code",
      "source": [
        "# Find the node in the graph that is closest to the origin point (here, we want to get the node id)\n",
        "orig_node = ox.get_nearest_node(graph_proj, orig_xy, method='euclidean')\n",
        "orig_node"
      ],
      "metadata": {
        "id": "8eRySpZTVKDa"
      },
      "execution_count": null,
      "outputs": []
    },
    {
      "cell_type": "code",
      "source": [
        "# Find the node in the graph that is closest to the target point (here, we want to get the node id)\n",
        "target_node = ox.get_nearest_node(graph_proj, target_xy, method='euclidean')\n",
        "target_node"
      ],
      "metadata": {
        "id": "dRogQUbyUco8"
      },
      "execution_count": null,
      "outputs": []
    },
    {
      "cell_type": "code",
      "source": [
        "# Retrieve the rows from the nodes GeoDataFrame\n",
        "o_closest = nodes_proj.loc[orig_node]\n",
        "t_closest = nodes_proj.loc[target_node]"
      ],
      "metadata": {
        "id": "7peKAIk4Ucri"
      },
      "execution_count": null,
      "outputs": []
    },
    {
      "cell_type": "code",
      "source": [
        "# Create a GeoDataFrame from the origin and target points\n",
        "od_nodes = gpd.GeoDataFrame([o_closest, t_closest], geometry='geometry', crs=nodes_proj.crs)\n",
        "od_nodes.head()"
      ],
      "metadata": {
        "id": "eXxUZCJjUcuR"
      },
      "execution_count": null,
      "outputs": []
    },
    {
      "cell_type": "markdown",
      "source": [
        "Now we are ready to do the routing and find the shortest path between the origin and target locations by using the shortest_path() function of networkx. With weight -parameter we can specify that 'length' attribute should be used as the cost impedance in the routing. If specifying the weight parameter, NetworkX will use by default Dijkstra’s algorithm to find the optimal route. We need to specify the graph that is used for routing, and the origin ID (source) and the target ID in between the shortest path will be calculated:"
      ],
      "metadata": {
        "id": "dw_SCKtLWUOt"
      }
    },
    {
      "cell_type": "code",
      "source": [
        "# Calculate the shortest path\n",
        "route = nx.shortest_path(G=graph_proj, source=orig_node, target=target_node, weight='length')\n",
        "\n",
        "# Show what we have\n",
        "print(route)\n",
        "# Plot the shortest path\n",
        "fig, ax = ox.plot_graph_route(graph_proj, route, origin_point=orig_xy, destination_point=target_xy)"
      ],
      "metadata": {
        "id": "3rPFyRJ3WWNt"
      },
      "execution_count": null,
      "outputs": []
    },
    {
      "cell_type": "code",
      "source": [],
      "metadata": {
        "id": "ThJAtd6lWWQd"
      },
      "execution_count": null,
      "outputs": []
    },
    {
      "cell_type": "markdown",
      "source": [
        "#Saving shortest paths to disk\n",
        "Quite often you need to save the route e.g. as a Shapefile. Hence, let’s continue still a bit and see how we can make a Shapefile of our route with some information associated with it.\n",
        "\n",
        "First we need to get the nodes that belong to the shortest path:"
      ],
      "metadata": {
        "id": "kyJtHTxqW0bY"
      }
    },
    {
      "cell_type": "code",
      "source": [
        "# Get the nodes along the shortest path\n",
        "route_nodes = nodes_proj.loc[route]\n",
        "route_nodes"
      ],
      "metadata": {
        "id": "DjfheqHyWWat"
      },
      "execution_count": null,
      "outputs": []
    },
    {
      "cell_type": "code",
      "source": [
        "#Now we can create a LineString out of the Point geometries of the nodes:\n",
        "from shapely.geometry import LineString, Point\n",
        "\n",
        "# Create a geometry for the shortest path\n",
        "route_line = LineString(list(route_nodes.geometry.values))\n",
        "route_line"
      ],
      "metadata": {
        "id": "AtutOn1uWWdk"
      },
      "execution_count": null,
      "outputs": []
    },
    {
      "cell_type": "code",
      "source": [
        "#Let's make a GeoDataFrame out of it having some useful information about our route such as a list of the osmids that are part of the route and the length of the route.\n",
        "\n",
        "# Create a GeoDataFrame\n",
        "route_geom = gpd.GeoDataFrame([[route_line]], geometry='geometry', crs=edges_proj.crs, columns=['geometry'])\n",
        "\n",
        "# Add a list of osmids associated with the route\n",
        "route_geom.loc[0, 'osmids'] = str(list(route_nodes['osmid'].values))\n",
        "\n",
        "# Calculate the route length\n",
        "route_geom['length_m'] = route_geom.length\n",
        "\n",
        "route_geom.head()"
      ],
      "metadata": {
        "id": "SiGiDaBEXCPy"
      },
      "execution_count": null,
      "outputs": []
    },
    {
      "cell_type": "code",
      "source": [
        "# Retrieve buildings and reproject\n",
        "buildings = ox.footprints_from_place(place_name)\n",
        "buildings_proj = buildings.to_crs(crs=edges_proj.crs)\n",
        "\n",
        "\n",
        "#Let’s now plot the route and the street network elements to verify that everything is as it should:\n",
        "# Plot edges and nodes\n",
        "ax = edges_proj.plot(linewidth=0.75, color='gray')\n",
        "ax = nodes_proj.plot(ax=ax, markersize=2, color='gray')\n",
        "\n",
        "# Add buildings\n",
        "ax = buildings_proj.plot(ax=ax, facecolor='khaki', alpha=0.7)\n",
        "\n",
        "# Add the route\n",
        "ax = route_geom.plot(ax=ax, linewidth=2, linestyle='--', color='red')\n",
        "\n",
        "# Add the origin and destination nodes of the route\n",
        "ax = od_nodes.plot(ax=ax, markersize=24, color='green')"
      ],
      "metadata": {
        "id": "rIEsc8ofXCSR"
      },
      "execution_count": null,
      "outputs": []
    },
    {
      "cell_type": "code",
      "source": [
        "#As there are certain columns with such data values that Shapefile format does not support (such as list or boolean), we need to convert those into strings to be able to export the data to Shapefile:\n",
        "\n",
        "# Columns with invalid values\n",
        "invalid_cols = ['lanes', 'maxspeed', 'name', 'oneway', 'osmid']\n",
        "\n",
        "# Iterate over invalid columns and convert them to string format\n",
        "for col in invalid_cols:\n",
        "    edges_proj[col] = edges_proj[col].astype(str)\n",
        "\n",
        "print(edges_proj.dtypes)"
      ],
      "metadata": {
        "id": "6ecVsKqMXCUh"
      },
      "execution_count": null,
      "outputs": []
    },
    {
      "cell_type": "code",
      "source": [
        "import os\n",
        "\n",
        "# Parse the place name for the output file names (replace spaces with underscores and remove commas)\n",
        "place_name_out = place_name.replace(' ', '_').replace(',','')\n",
        "\n",
        "# Output directory\n",
        "out_dir = \"data\"\n",
        "\n",
        "# Parse output file paths\n",
        "streets_out = os.path.join(out_dir, \"%s_streets.shp\" % place_name_out)\n",
        "route_out = os.path.join(out_dir, \"Route_from_a_to_b_at_%s.shp\" % place_name_out)\n",
        "nodes_out = os.path.join(out_dir, \"%s_nodes.shp\" % place_name_out)\n",
        "buildings_out = os.path.join(out_dir, \"%s_buildings.shp\" % place_name_out)\n",
        "od_out = os.path.join(out_dir, \"%s_route_OD_points.shp\" % place_name_out)\n",
        "\n",
        "# Save files\n",
        "edges_proj.to_file(streets_out)\n",
        "route_geom.to_file(route_out)\n",
        "nodes_proj.to_file(nodes_out)\n",
        "od_nodes.to_file(od_out)\n",
        "buildings[['geometry', 'name', 'addr:street']].to_file(buildings_out)"
      ],
      "metadata": {
        "id": "mKf1EUKcXCWp"
      },
      "execution_count": null,
      "outputs": []
    },
    {
      "cell_type": "code",
      "source": [],
      "metadata": {
        "id": "aMrDbigwXCZJ"
      },
      "execution_count": null,
      "outputs": []
    },
    {
      "cell_type": "code",
      "source": [
        "#https://automating-gis-processes.github.io/site/notebooks/L6/network-analysis.html"
      ],
      "metadata": {
        "id": "Pa6LO3qvwzRD"
      },
      "execution_count": null,
      "outputs": []
    },
    {
      "cell_type": "code",
      "source": [],
      "metadata": {
        "id": "wSVHokwLWVZs"
      },
      "execution_count": null,
      "outputs": []
    },
    {
      "cell_type": "code",
      "source": [],
      "metadata": {
        "id": "9eJ8jMRewzV4"
      },
      "execution_count": null,
      "outputs": []
    },
    {
      "cell_type": "code",
      "source": [],
      "metadata": {
        "id": "JrGpfajIwzY1"
      },
      "execution_count": null,
      "outputs": []
    },
    {
      "cell_type": "code",
      "source": [],
      "metadata": {
        "id": "33RxTCdEwzca"
      },
      "execution_count": null,
      "outputs": []
    }
  ]
}