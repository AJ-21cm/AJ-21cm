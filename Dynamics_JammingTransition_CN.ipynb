{
  "cells": [
    {
      "cell_type": "markdown",
      "metadata": {
        "id": "view-in-github",
        "colab_type": "text"
      },
      "source": [
        "<a href=\"https://colab.research.google.com/github/AJ-21cm/AJ-21cm/blob/main/Dynamics_JammingTransition_CN.ipynb\" target=\"_parent\"><img src=\"https://colab.research.google.com/assets/colab-badge.svg\" alt=\"Open In Colab\"/></a>"
      ]
    },
    {
      "cell_type": "markdown",
      "metadata": {
        "id": "cwfuyrvR_PTG"
      },
      "source": [
        "<center><h1>Dynamics of jamming transitions in complex networks</h1>\n",
        "Pablo Echenique, Jes´us G´omez-Garde˜nes and Yamir Moreno</center>\n",
        "<br>\n",
        "Dated: 17 June, 2005\n",
        "<b>\n",
        "<center>\n",
        " <h3><u>Abstract</u><br></h3>\n",
        "We numerically investigate jamming transitions in complex heterogeneous networks. Inspired\n",
        "by Internet routing protocols, we study a general model that incorporates local traffic information\n",
        "through a tunable parameter. The results show that whether the transition from a low-traffic regime\n",
        "to a congested phase is of first or second order type is determined by the protocol at work. The\n",
        "microscopic dynamics reveals that these two radically different behaviors are due to the way in which\n",
        "traffic jams propagate through the network. Our results are discussed in the context of Internet\n",
        "dynamics and other transport processes that take place on complex networks and provide insights\n",
        "for the design of routing policies based on traffic awareness in communication systems.\n",
        "</b></center>\n",
        "\n",
        "##<u>Model</u>\n",
        "<ul>\n",
        "<li> At each time step, p information packets are created. The source of each packet as well as its\n",
        "destination are chosen at random among all the nodes of\n",
        "the network.</li>\n",
        "<li> Each node i sends only one packet\n",
        "at each time step and can\n",
        "have a queue of $c_i$ packets to be delivered.</li>\n",
        "<li>Suppose that\n",
        "a node l is holding a packet whose destination is j. Then,\n",
        "the effective distance between a neighbor i (i = 1, . . . , k_l)\n",
        "of l and j is defined as\n",
        "<center>\n",
        "$\\delta_i = hd_i + (1 − h)c_i$\n",
        "</center>\n",
        "where $d_i$ is the minimum number of hops one has to\n",
        "pass by in order to reach j and h is a tunable parameter\n",
        "that accounts for the degree of traffic awareness incorporated in the delivery algorithm</li>\n",
        "<li> h = 1 referred to as standard protocol  and h $\\neq$ 1, called traffic-aware scheme. It has been recently shown that the two described above give the best network’s performance when packets are only introduced\n",
        "at the beginning of the process.  </li>\n",
        "<li>In order to characterize the phase transition from a\n",
        "free phase to a congested one, we introduce the order\n",
        "parameter</li>\n",
        "<center>\n",
        "$\\rho = \\lim_{t \\to \\infty} \\frac{A(t+\\tau)-A(t)}{p\\tau} $\n",
        "</center>\n",
        "where $\\tau$ is the observation time, A(t) number of packets at time t and p is the number of packets created at  each time step. The $\\rho$ measures the\n",
        "ratio between the outflow and the inflow of packets during\n",
        "a time window $\\tau$, $\\rho$ equals 0 and 1 implies minimal and maximal congestion respectively.\n",
        "<li></li>\n",
        "</ul>\n",
        "\n",
        "##<u>Results</u>\n",
        "<ul>\n",
        "<li> For the standard protocol(h=1)\n",
        "we get a smaller critical point($p_c$) and the jammed phase does\n",
        "not appear suddenly. Hence, if we would like to have a\n",
        "system in which traffic jams appear and grow smoothly,\n",
        "the standard algorithm is the best choice.  </li>\n",
        "<li>  On the contrary, we could implement a sort of traffic-aware protocol\n",
        "if we are interested in delaying the appearance of congestion, however at the cost of a sudden jump to a highly\n",
        "jammed phase due to the lack of previous warnings.</li>\n",
        "</ul>\n",
        "\n",
        "##<u>Summary</u>\n",
        "The model provides useful insights for\n",
        "the design of new routing policies and may be a guide for\n",
        "more complex models where, for instance, routers can\n",
        "tune h dynamically depending on the traffic conditions\n",
        "at a local scale."
      ]
    },
    {
      "cell_type": "code",
      "execution_count": null,
      "metadata": {
        "colab": {
          "base_uri": "https://localhost:8080/"
        },
        "id": "f-Azqo0VuRaP",
        "outputId": "c060c8f7-00f4-4846-ac98-c3a31d81c7b8"
      },
      "outputs": [
        {
          "output_type": "stream",
          "name": "stdout",
          "text": [
            "Looking in indexes: https://pypi.org/simple, https://us-python.pkg.dev/colab-wheels/public/simple/\n",
            "Collecting igraph\n",
            "  Downloading igraph-0.10.3-cp38-cp38-manylinux_2_17_x86_64.manylinux2014_x86_64.whl (3.3 MB)\n",
            "\u001b[K     |████████████████████████████████| 3.3 MB 5.1 MB/s \n",
            "\u001b[?25hCollecting texttable>=1.6.2\n",
            "  Downloading texttable-1.6.7-py2.py3-none-any.whl (10 kB)\n",
            "Installing collected packages: texttable, igraph\n",
            "Successfully installed igraph-0.10.3 texttable-1.6.7\n"
          ]
        }
      ],
      "source": [
        "!pip install igraph"
      ]
    },
    {
      "cell_type": "code",
      "execution_count": null,
      "metadata": {
        "id": "K0gcnPYPtBa7"
      },
      "outputs": [],
      "source": [
        "import networkx as nx\n",
        "import numpy as np\n",
        "import math\n",
        "import matplotlib.pyplot as plt\n",
        "import pandas as pd\n",
        "import igraph as ig"
      ]
    },
    {
      "cell_type": "code",
      "execution_count": null,
      "metadata": {
        "colab": {
          "base_uri": "https://localhost:8080/"
        },
        "id": "y97xLjblw_fE",
        "outputId": "fbb493a8-67cc-4310-a27a-26b64b9c4216"
      },
      "outputs": [
        {
          "output_type": "stream",
          "name": "stdout",
          "text": [
            "Mounted at /content/drive\n"
          ]
        }
      ],
      "source": [
        "from google.colab import drive\n",
        "drive.mount('/content/drive')"
      ]
    },
    {
      "cell_type": "code",
      "execution_count": null,
      "metadata": {
        "id": "s1xUVOB3xB4K"
      },
      "outputs": [],
      "source": [
        "import sys\n",
        "import os\n",
        "\n",
        "py_file_location = \"/content/drive/My Drive/MS_thesis_work/\"\n",
        "sys.path.append(os.path.abspath(py_file_location))"
      ]
    },
    {
      "cell_type": "code",
      "execution_count": null,
      "metadata": {
        "id": "iHvfUnCAxCwK"
      },
      "outputs": [],
      "source": [
        "import plotting_fun\n",
        "import Queue_methods\n",
        "import Graph_functions"
      ]
    },
    {
      "cell_type": "code",
      "execution_count": null,
      "metadata": {
        "id": "D16hwkj1Zqfy"
      },
      "outputs": [],
      "source": [
        "help(Graph_functions)"
      ]
    },
    {
      "cell_type": "code",
      "execution_count": null,
      "metadata": {
        "id": "-Iv173E4UqVl"
      },
      "outputs": [],
      "source": [
        "adjacency_list=plotting_fun.loadData(\"/content/drive/MyDrive/MS_thesis_work/adjacency_list_SF_1000_nodes_m_5_seed_6\")\n",
        "node_Degree_dict={i:len(adjacency_list[i]) for i in adjacency_list}\n",
        "nodes=len(adjacency_list.keys())"
      ]
    },
    {
      "cell_type": "code",
      "execution_count": null,
      "metadata": {
        "colab": {
          "base_uri": "https://localhost:8080/"
        },
        "id": "5JRPuLwraCQe",
        "outputId": "2ab8e008-ba38-4906-9465-eb3269b6f4d3"
      },
      "outputs": [
        {
          "data": {
            "text/plain": [
              "1000"
            ]
          },
          "execution_count": 7,
          "metadata": {},
          "output_type": "execute_result"
        }
      ],
      "source": []
    },
    {
      "cell_type": "code",
      "execution_count": null,
      "metadata": {
        "id": "6AGAtCprZntD"
      },
      "outputs": [],
      "source": [
        "edges=Graph_functions.edges_from_adj_list(adjacency_list)"
      ]
    },
    {
      "cell_type": "code",
      "execution_count": null,
      "metadata": {
        "id": "7ghmR08esaTE"
      },
      "outputs": [],
      "source": [
        "nodes=5000\n",
        "G_nx=nx.barabasi_albert_graph(nodes,m=5,seed=6)\n",
        "adjacency_list,node_Degree_dict=Graph_functions.adjacency_list_nodeDegree(G_nx,nodes)\n"
      ]
    },
    {
      "cell_type": "code",
      "execution_count": null,
      "metadata": {
        "id": "9TZLfyTfYbHf"
      },
      "outputs": [],
      "source": [
        "G_ig = ig.Graph(directed=False)\n",
        "G_ig.add_vertices(G_nx.nodes())\n",
        "G_ig.add_edges(G_nx.edges())"
      ]
    },
    {
      "cell_type": "code",
      "execution_count": null,
      "metadata": {
        "id": "JTGzubNhaOb4"
      },
      "outputs": [],
      "source": [
        "All_pairs_nodes={}\n",
        "for source in range(nodes):\n",
        "  target_list=[i for i in range(source,nodes)]\n",
        "  path = G_ig.get_shortest_paths(v=source, to=target_list, weights=None,output='vpath')\n",
        "  paths=[*path]\n",
        "  for target,route in zip(target_list,paths):\n",
        "    All_pairs_nodes[(source,target)]=route\n",
        "#filename=\"/content/drive/MyDrive/MS_thesis_work/UnW_SP_ScaleFree_1000_nodes_4975_edges_m_5_seed_6\"\n",
        "#storeData(All_pairs_nodes,filename)"
      ]
    },
    {
      "cell_type": "code",
      "execution_count": null,
      "metadata": {
        "id": "B-aHBWrqyg0V"
      },
      "outputs": [],
      "source": [
        "SP_route_dict=All_pairs_nodes"
      ]
    },
    {
      "cell_type": "code",
      "execution_count": null,
      "metadata": {
        "colab": {
          "base_uri": "https://localhost:8080/"
        },
        "id": "2bDCiROiwiA1",
        "outputId": "7fa149e9-802f-4984-d8f9-7cf650177e5a"
      },
      "outputs": [
        {
          "name": "stderr",
          "output_type": "stream",
          "text": [
            "<ipython-input-12-992313cb4664>:1: VisibleDeprecationWarning: Creating an ndarray from ragged nested sequences (which is a list-or-tuple of lists-or-tuples-or ndarrays with different lengths or shapes) is deprecated. If you meant to do this, you must specify 'dtype=object' when creating the ndarray.\n",
            "  np.max(np.array([All_pairs_nodes[i] for i in  All_pairs_nodes]))\n"
          ]
        },
        {
          "data": {
            "text/plain": [
              "[4999]"
            ]
          },
          "execution_count": 12,
          "metadata": {},
          "output_type": "execute_result"
        }
      ],
      "source": [
        "np.max(np.array([All_pairs_nodes[i] for i in  All_pairs_nodes]))"
      ]
    },
    {
      "cell_type": "code",
      "execution_count": null,
      "metadata": {
        "id": "BYjumqHvaVTd"
      },
      "outputs": [],
      "source": [
        "filename=\"/content/drive/MyDrive/MS_thesis_work/UnW_same_Orgn_dest_inclusive_SP_ScaleFree_1000_nodes_4975_edges_m_5_seed_6\""
      ]
    },
    {
      "cell_type": "code",
      "execution_count": null,
      "metadata": {
        "id": "Dzafs2MOOSGQ"
      },
      "outputs": [],
      "source": [
        "SP_route_dict=plotting_fun.loadData(\"/content/drive/MyDrive/MS_thesis_work/Dynamics_of_jammingTransistion_on_CN/UnW_same_Orgn_dest_inclusive_SP_ScaleFree_1000_nodes_4975_edges_m_5_seed_6\")"
      ]
    },
    {
      "cell_type": "code",
      "execution_count": null,
      "metadata": {
        "id": "jHhibyWp-iWo"
      },
      "outputs": [],
      "source": [
        "def order_para(TimeS,p,N):\n",
        "   max_len=len(TimeS)\n",
        "   order_para=[]\n",
        "   for tau in np.array(np.arange(5,20,5)):\n",
        "      value=0\n",
        "      x=int(max_len)-int(max_len/10)\n",
        "      y=int(x+tau)\n",
        "      count=0\n",
        "      while y<max_len:\n",
        "        value+=(TimeS[y]-TimeS[x])/tau\n",
        "        x=y\n",
        "        y=int(y+tau)\n",
        "        count+=1\n",
        "      value=value/(count*N*p)\n",
        "      order_para.append(value)\n",
        "   return np.mean(np.array(order_para))\n",
        "def Modified_SP_route(curr_node,destin_node,SP_route_dict):\n",
        "  if curr_node<destin_node:\n",
        "      route=SP_route_dict[(curr_node,destin_node)]\n",
        "      route_=route.copy()\n",
        "      #print(curr_node,destin_node,route_,\"True\")\n",
        "  else:\n",
        "      route=SP_route_dict[(destin_node,curr_node)]\n",
        "      route_=route.copy()\n",
        "      route_.reverse()\n",
        "      #print(curr_node,destin_node,route_,\"false\")\n",
        "  return route_\n",
        "def  Determ_Echenique_protocol_1(pos,dest,adjacency_list,SP_route_dict,c,h):\n",
        "     neig=[n for n in adjacency_list[pos]]\n",
        "     if dest not in neig:\n",
        "       H=np.array([(1-h)*c[i] + h*(len(Modified_SP_route(i,dest,SP_route_dict))-1)  for i in neig])\n",
        "       index=np.argmin(H)\n",
        "       value=H[index]\n",
        "       index_arr=np.argwhere(H==value)\n",
        "       nodes=[neig[i[0]] for i in index_arr]\n",
        "       #print(\"possible nodes\",nodes)\n",
        "       return np.random.choice(nodes)\n",
        "     else:\n",
        "       return dest\n",
        "def  Determ_Echenique_protocol_2(pos,dest,adjacency_list,SP_route_dict,c,h):\n",
        "     neig=[n for n in adjacency_list[pos]]\n",
        "     #print(\"neighbours\",neig)\n",
        "     occp_num=np.array([c[i] for i in neig])\n",
        "     SP_pathlen=np.array([len(Modified_SP_route(i,dest,SP_route_dict))-1 for i in neig])\n",
        "     H=h* SP_pathlen +(1.0-h)*occp_num\n",
        "     #print(\"oocp_number\",occp_num)\n",
        "     #print(\"SP\",SP_pathlen)\n",
        "     #print(H)\n",
        "     index=np.argmin(H)\n",
        "     value=H[index]\n",
        "     #print(\"v\",value)\n",
        "     index_arr=np.argwhere(H==value)\n",
        "     nodes=[neig[i[0]] for i in index_arr]\n",
        "     #print(\"possible nodes\",nodes)\n",
        "     return np.random.choice(nodes)\n",
        "def creat_particles_probabilistically(nodes,p,Each_node_queue) :\n",
        "    for node in range(nodes):\n",
        "          rnum1=np.round(np.random.rand(1)[0],3)\n",
        "          if rnum1<=p:\n",
        "            create_particle=np.random.randint(0,nodes,1)[0]\n",
        "            if create_particle !=node:\n",
        "              Each_node_queue[node].enqueue([create_particle])\n",
        "    return Each_node_queue\n",
        "def creat_particles_deterministically(nodes,p,Each_node_queue):\n",
        "    nodes_arr1=np.array([i for i in range(nodes)])\n",
        "    nodes_set=set(nodes_arr1)\n",
        "    origin=np.random.choice(nodes_arr1,size=p,replace=False,p=None)\n",
        "    origin_set=set(origin)\n",
        "    nodes_arr2=np.array(list(nodes_set.difference(origin_set)))\n",
        "    dest=np.random.choice(nodes_arr2, size=p, replace=False, p=None)\n",
        "    for i,j in zip(origin,dest):\n",
        "              Each_node_queue[i].enqueue([j])\n",
        "    return Each_node_queue\n",
        "def creat_particles_determin(nodes,P,Each_node_queue):\n",
        "    origin=np.random.choice(np.arange(nodes),size=P,replace=False,p=None)\n",
        "    for node in origin:\n",
        "      nodes_=[i for i in range(nodes)]\n",
        "      nodes_.remove(node)\n",
        "      dest=np.random.choice(np.array(nodes_))\n",
        "      Each_node_queue[node].enqueue([dest])\n",
        "    return Each_node_queue"
      ]
    },
    {
      "cell_type": "code",
      "source": [
        "origin=np.random.choice(np.arange(10),size=5,replace=False,p=None)\n",
        "origin"
      ],
      "metadata": {
        "colab": {
          "base_uri": "https://localhost:8080/"
        },
        "id": "FR8QQPErTR19",
        "outputId": "31ae597e-0d33-45e3-92a7-96598cf5f605"
      },
      "execution_count": null,
      "outputs": [
        {
          "output_type": "execute_result",
          "data": {
            "text/plain": [
              "array([7, 3, 5, 9, 1])"
            ]
          },
          "metadata": {},
          "execution_count": 54
        }
      ]
    },
    {
      "cell_type": "code",
      "source": [
        "np.arange(5)"
      ],
      "metadata": {
        "colab": {
          "base_uri": "https://localhost:8080/"
        },
        "id": "ktpE1tUUSoaF",
        "outputId": "696cc3dd-00f6-4f59-d414-c59ac39f6c78"
      },
      "execution_count": null,
      "outputs": [
        {
          "output_type": "execute_result",
          "data": {
            "text/plain": [
              "array([0, 1, 2, 3, 4])"
            ]
          },
          "metadata": {},
          "execution_count": 47
        }
      ]
    },
    {
      "cell_type": "code",
      "execution_count": null,
      "metadata": {
        "id": "wfd5wCXlLspf"
      },
      "outputs": [],
      "source": [
        "birth_prob=np.array([i for i in range(50,150,20)])"
      ]
    },
    {
      "cell_type": "code",
      "source": [
        "birth_prob"
      ],
      "metadata": {
        "colab": {
          "base_uri": "https://localhost:8080/"
        },
        "id": "Q0g-vvs7Q8WD",
        "outputId": "1ab13fde-35d0-4d9f-c44b-72e61f93bcb0"
      },
      "execution_count": null,
      "outputs": [
        {
          "output_type": "execute_result",
          "data": {
            "text/plain": [
              "array([ 50,  70,  90, 110, 130])"
            ]
          },
          "metadata": {},
          "execution_count": 58
        }
      ]
    },
    {
      "cell_type": "code",
      "execution_count": null,
      "metadata": {
        "id": "HsFAkqNML-Vi",
        "colab": {
          "base_uri": "https://localhost:8080/",
          "height": 1000
        },
        "outputId": "9805bf9b-6741-443a-f30c-86b9d2e7c872"
      },
      "outputs": [
        {
          "output_type": "display_data",
          "data": {
            "text/plain": [
              "<Figure size 432x288 with 1 Axes>"
            ],
            "image/png": "[encoded data removed]"
          },
          "metadata": {
            "needs_background": "light"
          }
        },
        {
          "output_type": "display_data",
          "data": {
            "text/plain": [
              "<Figure size 432x288 with 1 Axes>"
            ],
            "image/png": "[encoded data removed]"
          },
          "metadata": {
            "needs_background": "light"
          }
        },
        {
          "output_type": "display_data",
          "data": {
            "text/plain": [
              "<Figure size 432x288 with 1 Axes>"
            ],
            "image/png": "[encoded data removed]"
          },
          "metadata": {
            "needs_background": "light"
          }
        },
        {
          "output_type": "display_data",
          "data": {
            "text/plain": [
              "<Figure size 432x288 with 1 Axes>"
            ],
            "image/png": "[encoded data removed]"
          },
          "metadata": {
            "needs_background": "light"
          }
        },
        {
          "output_type": "display_data",
          "data": {
            "text/plain": [
              "<Figure size 432x288 with 1 Axes>"
            ],
            "image/png": "[encoded data removed]"
          },
          "metadata": {
            "needs_background": "light"
          }
        }
      ],
      "source": [
        "op=[]\n",
        "for p in birth_prob:\n",
        "  Each_node_queue={}\n",
        "  Each_node_TimeS={}\n",
        "  for node in range(nodes):\n",
        "    Each_node_queue[node]=Queue_methods.Queue_list()\n",
        "    Each_node_TimeS[node]=[]\n",
        "  Time=2000\n",
        "  for time in range(Time):\n",
        "        creat_particles_determin(nodes,p,Each_node_queue)\n",
        "        walkers_on_nodes_dummy={i:Each_node_queue[i].queue_size() for i in range(nodes)}\n",
        "        Each_node_queue_dummy={i:Queue_methods.Queue_list() for i in range(nodes)}\n",
        "        for node in range(nodes):\n",
        "            queue_size=Each_node_queue[node].queue_size()\n",
        "            if queue_size>0:\n",
        "                walker_out_dest=Each_node_queue[node].show()[0]\n",
        "                choosen_node=Determ_Echenique_protocol_2(node,walker_out_dest,adjacency_list,SP_route_dict,walkers_on_nodes_dummy,0.95)\n",
        "                expected_node=Modified_SP_route(node,walker_out_dest,SP_route_dict)\n",
        "                #print(\"choosen node =\",choosen_node,\"Expected node =\",expected_node[1])\n",
        "                if choosen_node==walker_out_dest:\n",
        "                    #print(\"destination reached\",choosen_node,walker_out_dest)\n",
        "                    Each_node_queue[node].dequeue()\n",
        "                    #print(\"walker destroyed\")\n",
        "                else:\n",
        "                    Each_node_queue[node].dequeue()\n",
        "                    Each_node_queue_dummy[choosen_node].enqueue([walker_out_dest])\n",
        "                    #print(\"walker transfered\",node,choosen_node)\n",
        "            else:\n",
        "                #print(\"Node %d is empty\",node)\n",
        "                continue\n",
        "                #print(\"Current node queue after changes\",Each_node_queue[node].show())\n",
        "                #print(\"dummy\",[[i,Each_node_queue_dummy[i].show()] for i in range(nodes)])\n",
        "        for node in range(nodes):\n",
        "              Each_node_queue[node].enqueue(Each_node_queue_dummy[node].show())\n",
        "              #print(\"Final queue of node\",node,Each_node_queue[node].show())\n",
        "              Each_node_TimeS[node].append(Each_node_queue[node].queue_size())\n",
        "              #print(Each_node_TimeS[node])\n",
        "  total_walkers_array=np.zeros(Time)\n",
        "  for node in range(nodes):\n",
        "      total_walkers_array+=np.array(Each_node_TimeS[node])\n",
        "  plt.plot(total_walkers_array)\n",
        "  plt.show()\n",
        "  op.append(order_para(total_walkers_array,p,1))"
      ]
    },
    {
      "cell_type": "code",
      "execution_count": null,
      "metadata": {
        "colab": {
          "base_uri": "https://localhost:8080/",
          "height": 283
        },
        "id": "3P0Fi9cDyBHs",
        "outputId": "d986fed6-1baa-44c6-866b-0ad885f34a3f"
      },
      "outputs": [
        {
          "output_type": "execute_result",
          "data": {
            "text/plain": [
              "<matplotlib.collections.PathCollection at 0x7f8d9818e3d0>"
            ]
          },
          "metadata": {},
          "execution_count": 63
        },
        {
          "output_type": "display_data",
          "data": {
            "text/plain": [
              "<Figure size 432x288 with 1 Axes>"
            ],
            "image/png": "[encoded data removed]"
          },
          "metadata": {
            "needs_background": "light"
          }
        }
      ],
      "source": [
        "plt.scatter(birth_prob, op)"
      ]
    },
    {
      "cell_type": "code",
      "source": [
        "plt.scatter(birth_prob,op1)\n",
        "plt.scatter(birth_prob,op2)\n",
        "plt.scatter(birth_prob,op3)"
      ],
      "metadata": {
        "colab": {
          "base_uri": "https://localhost:8080/",
          "height": 282
        },
        "id": "AK9qAnfFJxL3",
        "outputId": "e86c7a58-f922-4b97-8ede-7afcf3e2827f"
      },
      "execution_count": null,
      "outputs": [
        {
          "output_type": "execute_result",
          "data": {
            "text/plain": [
              "<matplotlib.collections.PathCollection at 0x7f497422bf10>"
            ]
          },
          "metadata": {},
          "execution_count": 43
        },
        {
          "output_type": "display_data",
          "data": {
            "text/plain": [
              "<Figure size 432x288 with 1 Axes>"
            ],
            "image/png": "[encoded data removed]"
          },
          "metadata": {
            "needs_background": "light"
          }
        }
      ]
    },
    {
      "cell_type": "code",
      "execution_count": null,
      "metadata": {
        "colab": {
          "base_uri": "https://localhost:8080/"
        },
        "id": "Y6KURdv6L-d5",
        "outputId": "eb99842d-f458-4399-bc38-8686cdaefb64"
      },
      "outputs": [
        {
          "data": {
            "text/plain": [
              "[895]"
            ]
          },
          "execution_count": 20,
          "metadata": {},
          "output_type": "execute_result"
        }
      ],
      "source": [
        "Each_node_queue[2].show()"
      ]
    },
    {
      "cell_type": "code",
      "execution_count": null,
      "metadata": {
        "id": "LTBbz5G1L-hH"
      },
      "outputs": [],
      "source": [
        "walkers_on_nodes_dummy={i:Each_node_queue[i].queue_size() for i in range(nodes)}\n",
        "walkers_on_nodes_dummy"
      ]
    }
  ],
  "metadata": {
    "colab": {
      "provenance": [],
      "authorship_tag": "ABX9TyMTzivLul3BGUETgiQY0Lpi",
      "include_colab_link": true
    },
    "kernelspec": {
      "display_name": "Python 3",
      "name": "python3"
    },
    "language_info": {
      "name": "python"
    }
  },
  "nbformat": 4,
  "nbformat_minor": 0
}