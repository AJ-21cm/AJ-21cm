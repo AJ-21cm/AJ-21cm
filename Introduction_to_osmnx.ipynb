{
  "cells": [
    {
      "cell_type": "markdown",
      "metadata": {
        "id": "view-in-github",
        "colab_type": "text"
      },
      "source": [
        "<a href=\"https://colab.research.google.com/github/AJ-21cm/AJ-21cm/blob/main/Introduction_to_osmnx.ipynb\" target=\"_parent\"><img src=\"https://colab.research.google.com/assets/colab-badge.svg\" alt=\"Open In Colab\"/></a>"
      ]
    },
    {
      "cell_type": "markdown",
      "metadata": {
        "id": "TPxdRySAB5pG"
      },
      "source": [
        "# OSMnx features demo\n",
        "\n",
        "Author: [Geoff Boeing](https://geoffboeing.com/)\n",
        "\n",
        "Get street networks and other spatial data anywhere in the world from OpenStreetMap then analyze and visualize them.\n",
        "\n",
        "More info:\n",
        "\n",
        "  - [Overview of OSMnx](http://geoffboeing.com/2016/11/osmnx-python-street-networks/)\n",
        "  - [Documentation and install instructions](https://osmnx.readthedocs.io)\n",
        "  - [Examples, demos, tutorials](https://github.com/gboeing/osmnx-examples)\n",
        "  - [Journal article and citation info](http://geoffboeing.com/publications/osmnx-complex-street-networks/)\n",
        "  - [GitHub repo](https://github.com/gboeing/osmnx)\n",
        "  \n",
        "This notebook provides a quick tour of some of OSMnx's key features including how to:\n",
        "\n",
        "  - download/model street networks\n",
        "  - calculate stats\n",
        "  - visualize centrality\n",
        "  - impute speeds/travel times and calculate shortest paths\n",
        "  - attach and visualize elevation data and edge grades\n",
        "  - download/model other infrastructure types\n",
        "  - download points of interest data"
      ]
    },
    {
      "cell_type": "code",
      "execution_count": null,
      "metadata": {
        "colab": {
          "base_uri": "https://localhost:8080/",
          "height": 35
        },
        "id": "DZ6Ppe-PB5pL",
        "outputId": "be527138-3b05-480e-ef7a-4442fbfb8afb"
      },
      "outputs": [
        {
          "output_type": "execute_result",
          "data": {
            "text/plain": [
              "'1.3.0'"
            ],
            "application/vnd.google.colaboratory.intrinsic+json": {
              "type": "string"
            }
          },
          "metadata": {},
          "execution_count": 1
        }
      ],
      "source": [
        "import networkx as nx\n",
        "import osmnx as ox\n",
        "\n",
        "%matplotlib inline\n",
        "ox.__version__"
      ]
    },
    {
      "cell_type": "code",
      "execution_count": null,
      "metadata": {
        "colab": {
          "base_uri": "https://localhost:8080/"
        },
        "id": "RfoaOFo1CK8T",
        "outputId": "61325e60-5540-4171-d93f-58254b8ad0e1"
      },
      "outputs": [
        {
          "output_type": "stream",
          "name": "stdout",
          "text": [
            "Looking in indexes: https://pypi.org/simple, https://us-python.pkg.dev/colab-wheels/public/simple/\n",
            "Collecting osmnx\n",
            "  Downloading osmnx-1.3.0-py3-none-any.whl (93 kB)\n",
            "\u001b[2K     \u001b[90m━━━━━━━━━━━━━━━━━━━━━━━━━━━━━━━━━━━━━━━━\u001b[0m \u001b[32m93.1/93.1 KB\u001b[0m \u001b[31m4.3 MB/s\u001b[0m eta \u001b[36m0:00:00\u001b[0m\n",
            "\u001b[?25hRequirement already satisfied: networkx>=2.8 in /usr/local/lib/python3.9/dist-packages (from osmnx) (3.0)\n",
            "Requirement already satisfied: Shapely>=2.0 in /usr/local/lib/python3.9/dist-packages (from osmnx) (2.0.1)\n",
            "Collecting numpy>=1.23\n",
            "  Downloading numpy-1.24.2-cp39-cp39-manylinux_2_17_x86_64.manylinux2014_x86_64.whl (17.3 MB)\n",
            "\u001b[2K     \u001b[90m━━━━━━━━━━━━━━━━━━━━━━━━━━━━━━━━━━━━━━━━\u001b[0m \u001b[32m17.3/17.3 MB\u001b[0m \u001b[31m81.0 MB/s\u001b[0m eta \u001b[36m0:00:00\u001b[0m\n",
            "\u001b[?25hCollecting requests>=2.28\n",
            "  Downloading requests-2.28.2-py3-none-any.whl (62 kB)\n",
            "\u001b[2K     \u001b[90m━━━━━━━━━━━━━━━━━━━━━━━━━━━━━━━━━━━━━━━━\u001b[0m \u001b[32m62.8/62.8 KB\u001b[0m \u001b[31m8.1 MB/s\u001b[0m eta \u001b[36m0:00:00\u001b[0m\n",
            "\u001b[?25hRequirement already satisfied: python-dateutil>=2.8 in /usr/local/lib/python3.9/dist-packages (from osmnx) (2.8.2)\n",
            "Collecting pyproj>=3.4\n",
            "  Downloading pyproj-3.5.0-cp39-cp39-manylinux_2_17_x86_64.manylinux2014_x86_64.whl (7.8 MB)\n",
            "\u001b[2K     \u001b[90m━━━━━━━━━━━━━━━━━━━━━━━━━━━━━━━━━━━━━━━━\u001b[0m \u001b[32m7.8/7.8 MB\u001b[0m \u001b[31m65.7 MB/s\u001b[0m eta \u001b[36m0:00:00\u001b[0m\n",
            "\u001b[?25hCollecting geopandas>=0.12\n",
            "  Downloading geopandas-0.12.2-py3-none-any.whl (1.1 MB)\n",
            "\u001b[2K     \u001b[90m━━━━━━━━━━━━━━━━━━━━━━━━━━━━━━━━━━━━━━━━\u001b[0m \u001b[32m1.1/1.1 MB\u001b[0m \u001b[31m66.0 MB/s\u001b[0m eta \u001b[36m0:00:00\u001b[0m\n",
            "\u001b[?25hRequirement already satisfied: matplotlib>=3.5 in /usr/local/lib/python3.9/dist-packages (from osmnx) (3.7.1)\n",
            "Collecting pandas>=1.5\n",
            "  Downloading pandas-1.5.3-cp39-cp39-manylinux_2_17_x86_64.manylinux2014_x86_64.whl (12.2 MB)\n",
            "\u001b[2K     \u001b[90m━━━━━━━━━━━━━━━━━━━━━━━━━━━━━━━━━━━━━━━\u001b[0m \u001b[32m12.2/12.2 MB\u001b[0m \u001b[31m108.9 MB/s\u001b[0m eta \u001b[36m0:00:00\u001b[0m\n",
            "\u001b[?25hCollecting fiona>=1.8\n",
            "  Downloading Fiona-1.9.2-cp39-cp39-manylinux_2_17_x86_64.manylinux2014_x86_64.whl (16.1 MB)\n",
            "\u001b[2K     \u001b[90m━━━━━━━━━━━━━━━━━━━━━━━━━━━━━━━━━━━━━━━━\u001b[0m \u001b[32m16.1/16.1 MB\u001b[0m \u001b[31m85.0 MB/s\u001b[0m eta \u001b[36m0:00:00\u001b[0m\n",
            "\u001b[?25hRequirement already satisfied: packaging in /usr/local/lib/python3.9/dist-packages (from geopandas>=0.12->osmnx) (23.0)\n",
            "Requirement already satisfied: cycler>=0.10 in /usr/local/lib/python3.9/dist-packages (from matplotlib>=3.5->osmnx) (0.11.0)\n",
            "Requirement already satisfied: kiwisolver>=1.0.1 in /usr/local/lib/python3.9/dist-packages (from matplotlib>=3.5->osmnx) (1.4.4)\n",
            "Requirement already satisfied: pillow>=6.2.0 in /usr/local/lib/python3.9/dist-packages (from matplotlib>=3.5->osmnx) (8.4.0)\n",
            "Requirement already satisfied: contourpy>=1.0.1 in /usr/local/lib/python3.9/dist-packages (from matplotlib>=3.5->osmnx) (1.0.7)\n",
            "Requirement already satisfied: importlib-resources>=3.2.0 in /usr/local/lib/python3.9/dist-packages (from matplotlib>=3.5->osmnx) (5.12.0)\n",
            "Requirement already satisfied: fonttools>=4.22.0 in /usr/local/lib/python3.9/dist-packages (from matplotlib>=3.5->osmnx) (4.39.3)\n",
            "Requirement already satisfied: pyparsing>=2.3.1 in /usr/local/lib/python3.9/dist-packages (from matplotlib>=3.5->osmnx) (3.0.9)\n",
            "Requirement already satisfied: pytz>=2020.1 in /usr/local/lib/python3.9/dist-packages (from pandas>=1.5->osmnx) (2022.7.1)\n",
            "Requirement already satisfied: certifi in /usr/local/lib/python3.9/dist-packages (from pyproj>=3.4->osmnx) (2022.12.7)\n",
            "Requirement already satisfied: six>=1.5 in /usr/local/lib/python3.9/dist-packages (from python-dateutil>=2.8->osmnx) (1.16.0)\n",
            "Requirement already satisfied: urllib3<1.27,>=1.21.1 in /usr/local/lib/python3.9/dist-packages (from requests>=2.28->osmnx) (1.26.15)\n",
            "Requirement already satisfied: idna<4,>=2.5 in /usr/local/lib/python3.9/dist-packages (from requests>=2.28->osmnx) (3.4)\n",
            "Requirement already satisfied: charset-normalizer<4,>=2 in /usr/local/lib/python3.9/dist-packages (from requests>=2.28->osmnx) (2.0.12)\n",
            "Collecting munch>=2.3.2\n",
            "  Downloading munch-2.5.0-py2.py3-none-any.whl (10 kB)\n",
            "Requirement already satisfied: importlib-metadata in /usr/local/lib/python3.9/dist-packages (from fiona>=1.8->geopandas>=0.12->osmnx) (6.1.0)\n",
            "Collecting cligj>=0.5\n",
            "  Downloading cligj-0.7.2-py3-none-any.whl (7.1 kB)\n",
            "Collecting click-plugins>=1.0\n",
            "  Downloading click_plugins-1.1.1-py2.py3-none-any.whl (7.5 kB)\n",
            "Requirement already satisfied: click~=8.0 in /usr/local/lib/python3.9/dist-packages (from fiona>=1.8->geopandas>=0.12->osmnx) (8.1.3)\n",
            "Requirement already satisfied: attrs>=19.2.0 in /usr/local/lib/python3.9/dist-packages (from fiona>=1.8->geopandas>=0.12->osmnx) (22.2.0)\n",
            "Requirement already satisfied: zipp>=3.1.0 in /usr/local/lib/python3.9/dist-packages (from importlib-resources>=3.2.0->matplotlib>=3.5->osmnx) (3.15.0)\n",
            "Installing collected packages: requests, pyproj, numpy, munch, cligj, click-plugins, pandas, fiona, geopandas, osmnx\n",
            "  Attempting uninstall: requests\n",
            "    Found existing installation: requests 2.27.1\n",
            "    Uninstalling requests-2.27.1:\n",
            "      Successfully uninstalled requests-2.27.1\n",
            "  Attempting uninstall: numpy\n",
            "    Found existing installation: numpy 1.22.4\n",
            "    Uninstalling numpy-1.22.4:\n",
            "      Successfully uninstalled numpy-1.22.4\n",
            "  Attempting uninstall: pandas\n",
            "    Found existing installation: pandas 1.4.4\n",
            "    Uninstalling pandas-1.4.4:\n",
            "      Successfully uninstalled pandas-1.4.4\n",
            "\u001b[31mERROR: pip's dependency resolver does not currently take into account all the packages that are installed. This behaviour is the source of the following dependency conflicts.\n",
            "tensorflow 2.12.0 requires numpy<1.24,>=1.22, but you have numpy 1.24.2 which is incompatible.\n",
            "numba 0.56.4 requires numpy<1.24,>=1.18, but you have numpy 1.24.2 which is incompatible.\u001b[0m\u001b[31m\n",
            "\u001b[0mSuccessfully installed click-plugins-1.1.1 cligj-0.7.2 fiona-1.9.2 geopandas-0.12.2 munch-2.5.0 numpy-1.24.2 osmnx-1.3.0 pandas-1.5.3 pyproj-3.5.0 requests-2.28.2\n"
          ]
        }
      ],
      "source": [
        "!pip install osmnx"
      ]
    },
    {
      "cell_type": "markdown",
      "metadata": {
        "id": "Lh5e6isBB5pN"
      },
      "source": [
        "## Working with street networks"
      ]
    },
    {
      "cell_type": "code",
      "execution_count": null,
      "metadata": {
        "id": "6hNdMzZSB5pO"
      },
      "outputs": [],
      "source": [
        "# download/model a street network for some city then visualize it\n",
        "G = ox.graph_from_place(\"GTB nagar, Delhi, INDIA\", network_type=\"drive\")\n",
        "fig, ax = ox.plot_graph(G)"
      ]
    },
    {
      "cell_type": "code",
      "source": [
        "G = ox.graph_from_point((23.03, 72.58), dist=600,network_type=\"drive\")"
      ],
      "metadata": {
        "id": "rDdqMIRpC0SG"
      },
      "execution_count": null,
      "outputs": []
    },
    {
      "cell_type": "markdown",
      "metadata": {
        "id": "NG3xygvyB5pQ"
      },
      "source": [
        "OSMnx geocodes the query \"Piedmont, California, USA\" to retrieve the place boundaries of that city from the Nominatim API, retrieves the drivable street network data within those boundaries from the Overpass API, constructs a graph model, then simplifies/corrects its topology such that nodes represent intersections and dead-ends and edges represent the street segments linking them. All of this is discussed in detail in the documentation and these examples.\n",
        "\n",
        "OSMnx models all networks as NetworkX `MultiDiGraph` objects. You can convert to:\n",
        "  - undirected MultiGraphs\n",
        "  - DiGraphs without (possible) parallel edges\n",
        "  - GeoPandas node/edge GeoDataFrames"
      ]
    },
    {
      "cell_type": "code",
      "execution_count": null,
      "metadata": {
        "id": "DRuAH7w7B5pR"
      },
      "outputs": [],
      "source": [
        "# convert your MultiDiGraph to an undirected MultiGraph\n",
        "M = ox.utils_graph.get_undirected(G)\n",
        "\n",
        "# convert your MultiDiGraph to a DiGraph without parallel edges\n",
        "D = ox.utils_graph.get_digraph(G)"
      ]
    },
    {
      "cell_type": "code",
      "execution_count": null,
      "metadata": {
        "id": "v9Da5BF5B5pR"
      },
      "outputs": [],
      "source": [
        "# you can convert your graph to node and edge GeoPandas GeoDataFrames\n",
        "gdf_nodes, gdf_edges = ox.graph_to_gdfs(G)\n",
        "gdf_nodes.head()"
      ]
    },
    {
      "cell_type": "code",
      "execution_count": null,
      "metadata": {
        "id": "5eYGSgXGB5pS"
      },
      "outputs": [],
      "source": [
        "gdf_edges.head()"
      ]
    },
    {
      "cell_type": "markdown",
      "metadata": {
        "id": "j2Kr2D1rB5pT"
      },
      "source": [
        "You can create a graph from node/edge GeoDataFrames, as long as gdf_nodes is indexed by osmid and gdf_edges is multi-indexed by u, v, key (following normal MultiDiGraph structure). This allows you to load graph node/edge shapefiles or GeoPackage layers as GeoDataFrames then convert to a MultiDiGraph for graph analytics."
      ]
    },
    {
      "cell_type": "code",
      "execution_count": null,
      "metadata": {
        "id": "5HyTms4eB5pT"
      },
      "outputs": [],
      "source": [
        "# convert node/edge GeoPandas GeoDataFrames to a NetworkX MultiDiGraph\n",
        "G2 = ox.graph_from_gdfs(gdf_nodes, gdf_edges, graph_attrs=G.graph)"
      ]
    },
    {
      "cell_type": "markdown",
      "metadata": {
        "id": "bq6qpCs0B5pU"
      },
      "source": [
        "## Basic street network stats"
      ]
    },
    {
      "cell_type": "code",
      "execution_count": null,
      "metadata": {
        "id": "FQsdHuhqB5pU",
        "colab": {
          "base_uri": "https://localhost:8080/"
        },
        "outputId": "05960b56-f847-4fa7-f569-032945e03d7d"
      },
      "outputs": [
        {
          "output_type": "execute_result",
          "data": {
            "text/plain": [
              "1046158.4998914516"
            ]
          },
          "metadata": {},
          "execution_count": 20
        }
      ],
      "source": [
        "# what sized area does our network cover in square meters?\n",
        "G_proj = ox.project_graph(G)\n",
        "nodes_proj = ox.graph_to_gdfs(G_proj, edges=False)\n",
        "graph_area_m = nodes_proj.unary_union.convex_hull.area\n",
        "graph_area_m"
      ]
    },
    {
      "cell_type": "code",
      "source": [
        "600*600*3.14"
      ],
      "metadata": {
        "colab": {
          "base_uri": "https://localhost:8080/"
        },
        "id": "BqVFAYNFE24V",
        "outputId": "69a52517-f4dc-4342-bc3c-5ca80c664128"
      },
      "execution_count": null,
      "outputs": [
        {
          "output_type": "execute_result",
          "data": {
            "text/plain": [
              "1130400.0"
            ]
          },
          "metadata": {},
          "execution_count": 21
        }
      ]
    },
    {
      "cell_type": "code",
      "source": [
        "(200*1.41)**2"
      ],
      "metadata": {
        "colab": {
          "base_uri": "https://localhost:8080/"
        },
        "id": "ucmdNRMnEMK-",
        "outputId": "f3ee2709-c396-4b08-effd-d581a3edda6d"
      },
      "execution_count": null,
      "outputs": [
        {
          "output_type": "execute_result",
          "data": {
            "text/plain": [
              "79524.0"
            ]
          },
          "metadata": {},
          "execution_count": 18
        }
      ]
    },
    {
      "cell_type": "code",
      "execution_count": null,
      "metadata": {
        "id": "vB5DS5gkB5pV"
      },
      "outputs": [],
      "source": [
        "# show some basic stats about the network\n",
        "ox.basic_stats(G_proj, area=graph_area_m, clean_int_tol=15)"
      ]
    },
    {
      "cell_type": "markdown",
      "metadata": {
        "id": "w08-M-GtB5pV"
      },
      "source": [
        "stats documentation: https://osmnx.readthedocs.io/en/stable/osmnx.html#module-osmnx.stats"
      ]
    },
    {
      "cell_type": "code",
      "execution_count": null,
      "metadata": {
        "id": "EgNA-U-LB5pV"
      },
      "outputs": [],
      "source": [
        "# save graph to disk as geopackage (for GIS) or graphml file (for gephi etc)\n",
        "ox.save_graph_geopackage(G, filepath=\"./data/mynetwork.gpkg\")\n",
        "ox.save_graphml(G, filepath=\"./data/mynetwork.graphml\")"
      ]
    },
    {
      "cell_type": "markdown",
      "metadata": {
        "id": "ofIss3mmB5pW"
      },
      "source": [
        "## Visualize street centrality\n",
        "\n",
        "Here we plot the street network and color its edges (streets) by their relative closeness centrality."
      ]
    },
    {
      "cell_type": "code",
      "execution_count": null,
      "metadata": {
        "id": "4DNncQFvB5pW"
      },
      "outputs": [],
      "source": [
        "# convert graph to line graph so edges become nodes and vice versa\n",
        "edge_centrality = nx.closeness_centrality(nx.line_graph(G))\n",
        "nx.set_edge_attributes(G, edge_centrality, \"edge_centrality\")"
      ]
    },
    {
      "cell_type": "code",
      "execution_count": null,
      "metadata": {
        "id": "Yi81BoNHB5pW"
      },
      "outputs": [],
      "source": [
        "# color edges in original graph with closeness centralities from line graph\n",
        "ec = ox.plot.get_edge_colors_by_attr(G, \"edge_centrality\", cmap=\"inferno\")\n",
        "fig, ax = ox.plot_graph(G, edge_color=ec, edge_linewidth=2, node_size=0)"
      ]
    },
    {
      "cell_type": "markdown",
      "metadata": {
        "id": "_h53HVeCB5pX"
      },
      "source": [
        "## Routing"
      ]
    },
    {
      "cell_type": "code",
      "execution_count": null,
      "metadata": {
        "id": "HqKD-KNrB5pX"
      },
      "outputs": [],
      "source": [
        "# impute missing edge speeds and calculate edge travel times with the speed module\n",
        "G = ox.speed.add_edge_speeds(G)\n",
        "G = ox.speed.add_edge_travel_times(G)"
      ]
    },
    {
      "cell_type": "code",
      "execution_count": null,
      "metadata": {
        "id": "i4zccYPiB5pX"
      },
      "outputs": [],
      "source": [
        "# get the nearest network nodes to two lat/lng points with the distance module\n",
        "orig = ox.distance.nearest_nodes(G, X=-122.245846, Y=37.828903)\n",
        "dest = ox.distance.nearest_nodes(G, X=-122.215006, Y=37.812303)"
      ]
    },
    {
      "cell_type": "code",
      "execution_count": null,
      "metadata": {
        "id": "wkPkVtkUB5pY"
      },
      "outputs": [],
      "source": [
        "# find the shortest path between nodes, minimizing travel time, then plot it\n",
        "route = ox.shortest_path(G, orig, dest, weight=\"travel_time\")\n",
        "fig, ax = ox.plot_graph_route(G, route, node_size=0)"
      ]
    },
    {
      "cell_type": "code",
      "execution_count": null,
      "metadata": {
        "id": "D1gbuCkhB5pY"
      },
      "outputs": [],
      "source": [
        "# how long is our route in meters?\n",
        "edge_lengths = ox.utils_graph.get_route_edge_attributes(G, route, \"length\")\n",
        "round(sum(edge_lengths))"
      ]
    },
    {
      "cell_type": "code",
      "execution_count": null,
      "metadata": {
        "id": "6r7lYuw4B5pY"
      },
      "outputs": [],
      "source": [
        "# how far is it between these two nodes as the crow flies?\n",
        "# use OSMnx's vectorized great-circle distance (haversine) function\n",
        "orig_x = G.nodes[orig][\"x\"]\n",
        "orig_y = G.nodes[orig][\"y\"]\n",
        "dest_x = G.nodes[dest][\"x\"]\n",
        "dest_y = G.nodes[dest][\"y\"]\n",
        "round(ox.distance.great_circle_vec(orig_y, orig_x, dest_y, dest_x))"
      ]
    },
    {
      "cell_type": "markdown",
      "metadata": {
        "id": "-Ez5j35IB5pY"
      },
      "source": [
        "You can add elevation attributes to your graph's nodes automatically with the `elevation` module, using either local raster files or the Google Maps Elevation API."
      ]
    },
    {
      "cell_type": "code",
      "execution_count": null,
      "metadata": {
        "id": "jDeIuAv5B5pZ"
      },
      "outputs": [],
      "source": [
        "# add elevation to nodes automatically, calculate edge grades, plot network\n",
        "# you need a google elevation api key to run this cell!\n",
        "try:\n",
        "    from keys import google_elevation_api_key\n",
        "\n",
        "    G = ox.elevation.add_node_elevations_google(G, api_key=google_elevation_api_key)\n",
        "    G = ox.elevation.add_edge_grades(G)\n",
        "    nc = ox.plot.get_node_colors_by_attr(G, \"elevation\", cmap=\"plasma\")\n",
        "    fig, ax = ox.plot_graph(G, node_color=nc, node_size=20, edge_linewidth=2, edge_color=\"#333\")\n",
        "except ImportError:\n",
        "    print(\"You need a google_elevation_api_key to run this cell.\")"
      ]
    },
    {
      "cell_type": "markdown",
      "metadata": {
        "id": "mFUoD1PtB5pZ"
      },
      "source": [
        "Nodes are colored from lowest elevation (dark blue) to highest (bright yellow).\n",
        "\n",
        "Example: create [elevation-based](12-node-elevations-edge-grades.ipynb) impedance functions to route around hills."
      ]
    },
    {
      "cell_type": "markdown",
      "metadata": {
        "id": "ii1OR-6IB5pZ"
      },
      "source": [
        "## Get networks other ways\n",
        "\n",
        "make queries less ambiguous to help the geocoder out, if it's not finding what you're looking for"
      ]
    },
    {
      "cell_type": "code",
      "execution_count": null,
      "metadata": {
        "id": "NK5gEoloB5pZ"
      },
      "outputs": [],
      "source": [
        "# you can make query an unambiguous dict to help the geocoder find it\n",
        "place = {\"city\": \"San Francisco\", \"state\": \"California\", \"country\": \"USA\"}\n",
        "G = ox.graph_from_place(place, network_type=\"drive\", truncate_by_edge=True)\n",
        "fig, ax = ox.plot_graph(G, figsize=(10, 10), node_size=0, edge_color=\"y\", edge_linewidth=0.2)"
      ]
    },
    {
      "cell_type": "code",
      "execution_count": null,
      "metadata": {
        "id": "PFWmOGquB5pZ"
      },
      "outputs": [],
      "source": [
        "# you can get networks anywhere in the world\n",
        "G = ox.graph_from_place(\"Sinalunga, Italy\", network_type=\"all\")\n",
        "fig, ax = ox.plot_graph(G, node_size=0, edge_linewidth=0.5)"
      ]
    },
    {
      "cell_type": "code",
      "execution_count": null,
      "metadata": {
        "id": "3maYnCCvB5pa"
      },
      "outputs": [],
      "source": [
        "# or get network by address, coordinates, bounding box, or any custom polygon\n",
        "# ...useful when OSM just doesn't already have a polygon for the place you want\n",
        "wurster_hall = (37.870605, -122.254830)\n",
        "one_mile = 1609  # meters\n",
        "G = ox.graph_from_point(wurster_hall, dist=one_mile, network_type=\"drive\")\n",
        "fig, ax = ox.plot_graph(G, node_size=0)"
      ]
    },
    {
      "cell_type": "markdown",
      "metadata": {
        "id": "Xee7BknUB5pa"
      },
      "source": [
        "Examples of [getting networks](01-overview-osmnx.ipynb) by coordinates, bounding box, or any custom polygon shape."
      ]
    },
    {
      "cell_type": "markdown",
      "metadata": {
        "id": "cU4HVNAiB5pa"
      },
      "source": [
        "## Get other networked infrastructure types\n",
        "\n",
        "...like rail or electric grids or even the canals of Venice and Amsterdam, using the `custom_filter` parameter: [see more examples](08-custom-filters-infrastructure.ipynb)."
      ]
    },
    {
      "cell_type": "code",
      "execution_count": null,
      "metadata": {
        "id": "GxUifMJvB5pa"
      },
      "outputs": [],
      "source": [
        "# get NY subway rail network\n",
        "G = ox.graph_from_place(\n",
        "    \"New York, New York, USA\",\n",
        "    retain_all=False,\n",
        "    truncate_by_edge=True,\n",
        "    simplify=True,\n",
        "    custom_filter='[\"railway\"~\"subway\"]',\n",
        ")\n",
        "\n",
        "fig, ax = ox.plot_graph(G, node_size=0, edge_color=\"w\", edge_linewidth=0.2)"
      ]
    },
    {
      "cell_type": "markdown",
      "metadata": {
        "id": "7NeAdzwQB5pb"
      },
      "source": [
        "## Get any geospatial entities' geometries and attributes\n",
        "\n",
        "Use the `geometries` module to download entities, such as local amenities, points of interest, or building footprints, and turn them into a GeoDataFrame: [see docs](https://osmnx.readthedocs.io/en/stable/osmnx.html#module-osmnx.geometries). For more usage examples of downloading geospatial objects from OSM, see [this notebook](16-download-osm-geospatial-entities.ipynb)."
      ]
    },
    {
      "cell_type": "code",
      "execution_count": null,
      "metadata": {
        "id": "ZruJYCDLB5pb"
      },
      "outputs": [],
      "source": [
        "# get all building footprints in some neighborhood\n",
        "place = \"Bunker Hill, Los Angeles, California\"\n",
        "tags = {\"building\": True}\n",
        "gdf = ox.geometries_from_place(place, tags)\n",
        "gdf.shape"
      ]
    },
    {
      "cell_type": "code",
      "execution_count": null,
      "metadata": {
        "id": "9s6bl6tBB5pc"
      },
      "outputs": [],
      "source": [
        "fig, ax = ox.plot_footprints(gdf, figsize=(3, 3))"
      ]
    },
    {
      "cell_type": "markdown",
      "metadata": {
        "id": "OS9js663B5pc"
      },
      "source": [
        "See the other notebooks for more examples of visualization with OSMnx."
      ]
    },
    {
      "cell_type": "code",
      "execution_count": null,
      "metadata": {
        "id": "S8BeUENFB5pc"
      },
      "outputs": [],
      "source": [
        "# get all parks and bus stops in some neighborhood\n",
        "tags = {\"leisure\": \"park\", \"highway\": \"bus_stop\"}\n",
        "gdf = ox.geometries_from_place(place, tags)\n",
        "gdf.shape"
      ]
    },
    {
      "cell_type": "code",
      "execution_count": null,
      "metadata": {
        "id": "r1ay1QavB5pc"
      },
      "outputs": [],
      "source": []
    }
  ],
  "metadata": {
    "accelerator": "GPU",
    "colab": {
      "provenance": [],
      "include_colab_link": true
    },
    "gpuClass": "standard",
    "kernelspec": {
      "display_name": "Python (ox)",
      "language": "python",
      "name": "ox"
    },
    "language_info": {
      "codemirror_mode": {
        "name": "ipython",
        "version": 3
      },
      "file_extension": ".py",
      "mimetype": "text/x-python",
      "name": "python",
      "nbconvert_exporter": "python",
      "pygments_lexer": "ipython3",
      "version": "3.9.12"
    }
  },
  "nbformat": 4,
  "nbformat_minor": 0
}