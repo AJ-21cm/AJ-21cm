{
  "nbformat": 4,
  "nbformat_minor": 0,
  "metadata": {
    "colab": {
      "provenance": [],
      "authorship_tag": "ABX9TyPCehNJ7SVVPy8JpqZFW/UV",
      "include_colab_link": true
    },
    "kernelspec": {
      "name": "python3",
      "display_name": "Python 3"
    },
    "language_info": {
      "name": "python"
    }
  },
  "cells": [
    {
      "cell_type": "markdown",
      "metadata": {
        "id": "view-in-github",
        "colab_type": "text"
      },
      "source": [
        "<a href=\"https://colab.research.google.com/github/AJ-21cm/AJ-21cm/blob/main/Real_Traffic_Sim.ipynb\" target=\"_parent\"><img src=\"https://colab.research.google.com/assets/colab-badge.svg\" alt=\"Open In Colab\"/></a>"
      ]
    },
    {
      "cell_type": "code",
      "execution_count": null,
      "metadata": {
        "id": "f3YzhQz2H6hh"
      },
      "outputs": [],
      "source": [
        "import networkx as nx\n",
        "import numpy as np\n",
        "import math\n",
        "import matplotlib.pyplot as plt\n",
        "#import igraph as ig\n",
        "import pandas as pd"
      ]
    },
    {
      "cell_type": "code",
      "source": [
        "from google.colab import drive\n",
        "drive.mount('/content/drive/')"
      ],
      "metadata": {
        "colab": {
          "base_uri": "https://localhost:8080/"
        },
        "id": "cKqScYtUI2xj",
        "outputId": "cc05340d-7493-4659-ed9a-382cd5837906"
      },
      "execution_count": null,
      "outputs": [
        {
          "output_type": "stream",
          "name": "stdout",
          "text": [
            "Mounted at /content/drive/\n"
          ]
        }
      ]
    },
    {
      "cell_type": "code",
      "source": [
        "import sys\n",
        "import os\n",
        "py_file_location = \"/content/drive/My Drive/MS_thesis_work/\"\n",
        "sys.path.append(os.path.abspath(py_file_location))"
      ],
      "metadata": {
        "id": "TrKKAGSZI3kS"
      },
      "execution_count": null,
      "outputs": []
    },
    {
      "cell_type": "code",
      "source": [
        "import Graph_functions\n",
        "import plotting_fun\n",
        "import Queue_methods\n",
        "import Stats_EE_recurr_cal"
      ],
      "metadata": {
        "id": "jIrx7li1I3np"
      },
      "execution_count": null,
      "outputs": []
    },
    {
      "cell_type": "code",
      "source": [
        "def next_pos_Thrh_wSP_route(curr_node,destin_node,SP_route_dict):\n",
        "  if curr_node<destin_node:\n",
        "      route=SP_route_dict[(curr_node,destin_node)]\n",
        "      route_=route.copy()\n",
        "      #print(curr_node,destin_node,route_,\"True\")\n",
        "  else:\n",
        "      route=SP_route_dict[(destin_node,curr_node)]\n",
        "      route_=route.copy()\n",
        "      route_.reverse()\n",
        "      #print(curr_node,destin_node,route_,\"false\")\n",
        "  return route_[1]"
      ],
      "metadata": {
        "id": "rMZ8GJoLJ_Ov"
      },
      "execution_count": null,
      "outputs": []
    },
    {
      "cell_type": "code",
      "source": [
        "class Queue_array:\n",
        "    def __init__(self):\n",
        "        self.items = np.array([],dtype=int)\n",
        "    def is_empty(self):\n",
        "        return self.items ==np.array([])\n",
        "    def enqueue(self, array_data):\n",
        "        self.items=np.append(self.items,array_data,axis=0)\n",
        "        return self.items\n",
        "    def enqueue_sort(self, array_data):\n",
        "        self.items=np.append(self.items,array_data,axis=0)\n",
        "        self.items=np.sort(self.items)\n",
        "        return  self.items\n",
        "    def update_queue(self,value):\n",
        "        self.items=np.round_(np.array(self.items,dtype=float)-value,1)\n",
        "    def dequeue(self):\n",
        "        self.items=np.delete(self.items,0,axis=0)\n",
        "        return self.items\n",
        "    def Count_Zeros(self):\n",
        "        o_len=np.size(self.items)\n",
        "        self.items=self.items[self.items!=0.0]\n",
        "        n_zeros =o_len-np.size(self.items)\n",
        "        return  n_zeros\n",
        "    def show(self):\n",
        "        return self.items\n",
        "    def queue_size(self):\n",
        "        return np.size(self.items)"
      ],
      "metadata": {
        "id": "ryJWJzjtI3uZ"
      },
      "execution_count": null,
      "outputs": []
    },
    {
      "cell_type": "code",
      "source": [
        "city_name=\"_NewYork_\"\n",
        "length_dict=plotting_fun.loadData(\"/content/drive/MyDrive/MS_thesis_work/SG_Edge_length\"+city_name)\n",
        "adjacency_list=plotting_fun.loadData(\"/content/drive/MyDrive/MS_thesis_work/adjacency_list\"+city_name)\n",
        "edges=Graph_functions.edges_from_adj_list(adjacency_list)\n",
        "node_Degree_dict={i:len(adjacency_list[i]) for i in adjacency_list}\n",
        "nodes=len(adjacency_list.keys())\n",
        "filename=\"/content/drive/MyDrive/MS_thesis_work/SG_wSP\"+city_name\n",
        "SP_route_dict=plotting_fun.loadData(filename)\n",
        "nodes,SP_route_dict"
      ],
      "metadata": {
        "id": "w0NGoPeII3xZ"
      },
      "execution_count": null,
      "outputs": []
    },
    {
      "cell_type": "code",
      "source": [
        "length_dict"
      ],
      "metadata": {
        "id": "JHtxtT2L8zOM"
      },
      "execution_count": null,
      "outputs": []
    },
    {
      "cell_type": "code",
      "source": [
        "double_edges=[(i[1],i[0]) for i in edges]\n",
        "double_edges.extend(edges)"
      ],
      "metadata": {
        "id": "JexdAoSRLcMg"
      },
      "execution_count": null,
      "outputs": []
    },
    {
      "cell_type": "code",
      "source": [
        "Degrees=list(set(node_Degree_dict.values()))\n",
        "Degrees"
      ],
      "metadata": {
        "colab": {
          "base_uri": "https://localhost:8080/"
        },
        "id": "gquO-6mJLWQ9",
        "outputId": "2f55fcfe-5dc8-4279-f9c8-1f8b8c012999"
      },
      "execution_count": null,
      "outputs": [
        {
          "output_type": "execute_result",
          "data": {
            "text/plain": [
              "[1, 2, 3, 4, 5, 6]"
            ]
          },
          "metadata": {},
          "execution_count": 15
        }
      ]
    },
    {
      "cell_type": "code",
      "source": [
        "def Greenshield_model(vh,kj,k):\n",
        "  return vh*(1-(k/kj))\n",
        "def mod_Underwood_Expon_Model(vh,kj,k):\n",
        "  if k<kj:\n",
        "    return vh*np.exp(-k/kj)\n",
        "  else:\n",
        "    return 0"
      ],
      "metadata": {
        "id": "YhNAn3oDJ69F"
      },
      "execution_count": null,
      "outputs": []
    },
    {
      "cell_type": "code",
      "source": [
        "node_capacity={}\n",
        "n_1={}\n",
        "prob_gen={}\n",
        "lambdaa=0.02\n",
        "for deg in Degrees:\n",
        "  node_capacity[deg]=5*deg\n",
        "  n_1[deg]=1\n",
        "  prob_gen[deg]=0.9"
      ],
      "metadata": {
        "id": "Sqp7HkhjO38g"
      },
      "execution_count": null,
      "outputs": []
    },
    {
      "cell_type": "code",
      "source": [
        "kj_dict={edge:10*(1+length_dict[edge]//25)for edge in edges}\n",
        "plt.hist(kj_dict.values(),bins=50)"
      ],
      "metadata": {
        "id": "QmgHkveZRQTs"
      },
      "execution_count": null,
      "outputs": []
    },
    {
      "cell_type": "code",
      "source": [
        "Time=10\n",
        "edge_info={i:{j:Queue_array() for j in range(nodes)} for i in double_edges}\n",
        "Each_node_queue={i:Queue_array() for i in range(nodes)}\n",
        "Each_node_edge_TimeS=np.zeros((nodes,nodes,Time))\n",
        "for time in range(Time):\n",
        "  for i in double_edges:\n",
        "    for j in range(nodes):\n",
        "        if edge_info[i][j].queue_size()!=0:\n",
        "            edge_info[i][j].update_queue(0.1)\n",
        "            Zeros=edge_info[i][j].Count_Zeros()\n",
        "            if Zeros>0:\n",
        "              if i[1]!=j:\n",
        "                Each_node_queue[i[1]].enqueue([j for k in range(Zeros)])\n",
        "              else:\n",
        "                pass\n",
        "                #print(\"Destination Reached\")\n",
        "            else:\n",
        "              pass\n",
        "              #print(\"Travelling\")\n",
        "        else:\n",
        "          continue\n",
        "  for node in range(nodes):\n",
        "    rnum1=np.random.rand(1)[0]\n",
        "    if rnum1<=prob_gen[node_Degree_dict[node]]: #and Each_node_queue[node].queue_size()<node_capacity[node_Degree_dict[node]]:\n",
        "      create_particle=np.random.randint(0,nodes,1)[0]\n",
        "      if create_particle!=node:\n",
        "         Each_node_queue[node].enqueue([create_particle])\n",
        "    #print(\"current node\",node)\n",
        "    #print(\"Current node queue at starting\",Each_node_queue[node].show())\n",
        "    #print(\"dummy\",[[i,Each_node_queue_dummy[i].show()] for i in range(nodes)])\n",
        "    q_s=Each_node_queue[node].queue_size()\n",
        "    max_outf=n_1[node_Degree_dict[node]]\n",
        "    if q_s>0:\n",
        "          walker_out_dest=Each_node_queue[node].show()[0]\n",
        "          choosen_node=next_pos_Thrh_wSP_route(node,walker_out_dest,SP_route_dict,length_dict)\n",
        "          if node<choosen_node:\n",
        "             density=np.sum([edge_info[(node,choosen_node)][i].queue_size() for i in range(nodes)])\n",
        "             dens_max=kj_dict[(node,choosen_node)]\n",
        "          else:\n",
        "            density=np.sum([edge_info[(choosen_node,node)][i].queue_size() for i in range(nodes)])\n",
        "            #density=np.sum([np.size(items) for items in l[(choosen_node,node)].items()])\n",
        "            dens_max=kj_dict[(choosen_node,node)]\n",
        "          speed=np.round(mod_Underwood_Expon_Model(80,dens_max,density),1)\n",
        "          #print(f\"speed:{speed} max_dens:{dens_max} dens:{density}\")\n",
        "          if speed!=0:\n",
        "            if node<choosen_node:\n",
        "              tt=np.round((length_dict[(node,choosen_node)])/speed ,1)\n",
        "            else:\n",
        "              tt=np.round((length_dict[(choosen_node,node)])/speed,1)\n",
        "            edge_info[(node,choosen_node)][walker_out_dest].enqueue(np.array([tt],dtype=float))\n",
        "            #print(\"choosen node\",choosen_node)\n",
        "            #print(\"walker is going on edge\",(node,choosen_node),\"time =\",edge_info[(node,choosen_node)][walker_out_dest].show())\n",
        "            Each_node_queue[node].dequeue()\n",
        "          else:\n",
        "            #print(\"Capacity reached\")\n",
        "            continue\n",
        "\n",
        "    else:\n",
        "      #print(\"Node %d is empty\",node)\n",
        "      continue\n",
        "    #print(\"Current node queue after changes\",Each_node_queue[node].show())\n",
        "    #print(\"dummy\",[[i,Each_node_queue_dummy[i].show()] for i in range(nodes)])\n",
        "  node_visit={i:False for i in range(nodes)}\n",
        "  for i in edges:\n",
        "      Each_node_edge_TimeS[i[0],i[1],time]=np.sum([edge_info[(i[0],i[1])][k].queue_size() for k in range(nodes)])\n",
        "      Each_node_edge_TimeS[i[1],i[0],time]=np.sum([edge_info[(i[1],i[0])][k].queue_size() for k in range(nodes)])\n",
        "      if not node_visit[i[0]]:\n",
        "        node_visit[i[0]]=True\n",
        "        Each_node_edge_TimeS[i[0],i[0],time]=Each_node_queue[i[0]].queue_size()\n",
        "      if not node_visit[i[1]]:\n",
        "        node_visit[i[1]]=True\n",
        "        Each_node_edge_TimeS[i[1],i[1],time]=Each_node_queue[i[1]].queue_size()"
      ],
      "metadata": {
        "id": "Q5pkce9bJ6_p"
      },
      "execution_count": null,
      "outputs": []
    },
    {
      "cell_type": "code",
      "source": [
        "Each_node_edge_TimeS[::,::,9]"
      ],
      "metadata": {
        "colab": {
          "base_uri": "https://localhost:8080/"
        },
        "id": "xQuOq66fbOcL",
        "outputId": "cff0780f-bc6d-47da-d861-d5706a5ec0d2"
      },
      "execution_count": null,
      "outputs": [
        {
          "output_type": "execute_result",
          "data": {
            "text/plain": [
              "array([[3., 1., 5., ..., 0., 0., 0.],\n",
              "       [1., 2., 0., ..., 0., 0., 0.],\n",
              "       [0., 0., 2., ..., 0., 0., 0.],\n",
              "       ...,\n",
              "       [0., 0., 0., ..., 0., 0., 0.],\n",
              "       [0., 0., 0., ..., 0., 0., 0.],\n",
              "       [0., 0., 0., ..., 0., 0., 0.]])"
            ]
          },
          "metadata": {},
          "execution_count": 26
        }
      ]
    },
    {
      "cell_type": "code",
      "source": [
        "nodes_arr=np.zeros(Time)\n",
        "for i in range(nodes):\n",
        "    nodes_arr+=Each_node_edge_TimeS[i,i,::]\n",
        "plt.scatter(np.arange(Time),nodes_arr)"
      ],
      "metadata": {
        "colab": {
          "base_uri": "https://localhost:8080/",
          "height": 282
        },
        "id": "ukW_GHQnhyFC",
        "outputId": "5800ab36-8d91-410a-ddf3-197d9454e7a0"
      },
      "execution_count": null,
      "outputs": [
        {
          "output_type": "execute_result",
          "data": {
            "text/plain": [
              "<matplotlib.collections.PathCollection at 0x7efd84c0d820>"
            ]
          },
          "metadata": {},
          "execution_count": 27
        },
        {
          "output_type": "display_data",
          "data": {
            "text/plain": [
              "<Figure size 432x288 with 1 Axes>"
            ],
            "image/png": "[encoded data removed]"
          },
          "metadata": {
            "needs_background": "light"
          }
        }
      ]
    },
    {
      "cell_type": "code",
      "source": [
        "edges_arr=np.zeros(Time)\n",
        "for i in range(nodes):\n",
        "  for j in range(i+1,nodes):\n",
        "      edges_arr+=Each_node_edge_TimeS[i,j,::] + Each_node_edge_TimeS[j,i,::]\n",
        "plt.scatter(np.arange(Time),edges_arr)"
      ],
      "metadata": {
        "colab": {
          "base_uri": "https://localhost:8080/",
          "height": 282
        },
        "id": "VHHc6-EWiDNZ",
        "outputId": "f73d2df2-fe33-435a-fb9e-b4ca051410ef"
      },
      "execution_count": null,
      "outputs": [
        {
          "output_type": "execute_result",
          "data": {
            "text/plain": [
              "<matplotlib.collections.PathCollection at 0x7efd84b5dd30>"
            ]
          },
          "metadata": {},
          "execution_count": 29
        },
        {
          "output_type": "display_data",
          "data": {
            "text/plain": [
              "<Figure size 432x288 with 1 Axes>"
            ],
            "image/png": "[encoded data removed]"
          },
          "metadata": {
            "needs_background": "light"
          }
        }
      ]
    },
    {
      "cell_type": "code",
      "source": [
        "Time=10\n",
        "edge_info={i:{j:Queue_array() for j in range(nodes)} for i in double_edges}\n",
        "Each_node_queue={i:Queue_array() for i in range(nodes)}\n",
        "Each_node_edge_TimeS=np.zeros((nodes,nodes,Time))\n",
        "for time in range(Time):\n",
        "  for i in double_edges:\n",
        "    node_qs=Each_node_queue[i[1]].queue_size()\n",
        "    max_node_cap=node_capacity[node_Degree_dict[i[1]]]\n",
        "    for j in range(nodes):\n",
        "        if edge_info[i][j].queue_size()!=0:\n",
        "            edge_info[i][j].update_queue(0.1)\n",
        "            Zeros=edge_info[i][j].Count_Zeros()\n",
        "            if Zeros>0 and abs(Zeros-node_qs)>=0:\n",
        "              if i[1]!=j:\n",
        "                Each_node_queue[i[1]].enqueue([j for k in range(Zeros)])\n",
        "              else:\n",
        "                pass\n",
        "                #print(\"Destination Reached\")\n",
        "            else:\n",
        "              pass\n",
        "              #print(\"Travelling\")\n",
        "        else:\n",
        "          continue\n",
        "  for node in range(nodes):\n",
        "    rnum1=np.random.rand(1)[0]\n",
        "    if rnum1<=prob_gen[node_Degree_dict[node]]: #and Each_node_queue[node].queue_size()<node_capacity[node_Degree_dict[node]]:\n",
        "      create_particle=np.random.randint(0,nodes,1)[0]\n",
        "      if create_particle!=node:\n",
        "         Each_node_queue[node].enqueue([create_particle])\n",
        "    #print(\"current node\",node)\n",
        "    #print(\"Current node queue at starting\",Each_node_queue[node].show())\n",
        "    #print(\"dummy\",[[i,Each_node_queue_dummy[i].show()] for i in range(nodes)])\n",
        "    q_s=Each_node_queue[node].queue_size()\n",
        "    max_outf=n_1[node_Degree_dict[node]]\n",
        "    if q_s>0:\n",
        "          walker_out_dest=Each_node_queue[node].show()[0]\n",
        "          choosen_node=next_pos_Thrh_wSP_route(node,walker_out_dest,SP_route_dict,length_dict)\n",
        "          if node<choosen_node:\n",
        "             density=np.sum([edge_info[(node,choosen_node)][i].queue_size() for i in range(nodes)])\n",
        "             dens_max=kj_dict[(node,choosen_node)]\n",
        "          else:\n",
        "            density=np.sum([edge_info[(choosen_node,node)][i].queue_size() for i in range(nodes)])\n",
        "            #density=np.sum([np.size(items) for items in l[(choosen_node,node)].items()])\n",
        "            dens_max=kj_dict[(choosen_node,node)]\n",
        "          speed=np.round(mod_Underwood_Expon_Model(80,dens_max,density),1)\n",
        "          #print(f\"speed:{speed} max_dens:{dens_max} dens:{density}\")\n",
        "          if speed!=0:\n",
        "            if node<choosen_node:\n",
        "              tt=np.round((length_dict[(node,choosen_node)])/speed ,1)\n",
        "            else:\n",
        "              tt=np.round((length_dict[(choosen_node,node)])/speed,1)\n",
        "            edge_info[(node,choosen_node)][walker_out_dest].enqueue(np.array([tt],dtype=float))\n",
        "            #print(\"choosen node\",choosen_node)\n",
        "            #print(\"walker is going on edge\",(node,choosen_node),\"time =\",edge_info[(node,choosen_node)][walker_out_dest].show())\n",
        "            Each_node_queue[node].dequeue()\n",
        "          else:\n",
        "            #print(\"Capacity reached\")\n",
        "            continue\n",
        "\n",
        "    else:\n",
        "      #print(\"Node %d is empty\",node)\n",
        "      continue\n",
        "    #print(\"Current node queue after changes\",Each_node_queue[node].show())\n",
        "    #print(\"dummy\",[[i,Each_node_queue_dummy[i].show()] for i in range(nodes)])\n",
        "  node_visit={i:False for i in range(nodes)}\n",
        "  for i in edges:\n",
        "      Each_node_edge_TimeS[i[0],i[1],time]=np.sum([edge_info[(i[0],i[1])][k].queue_size() for k in range(nodes)])\n",
        "      Each_node_edge_TimeS[i[1],i[0],time]=np.sum([edge_info[(i[1],i[0])][k].queue_size() for k in range(nodes)])\n",
        "      if not node_visit[i[0]]:\n",
        "        node_visit[i[0]]=True\n",
        "        Each_node_edge_TimeS[i[0],i[0],time]=Each_node_queue[i[0]].queue_size()\n",
        "      if not node_visit[i[1]]:\n",
        "        node_visit[i[1]]=True\n",
        "        Each_node_edge_TimeS[i[1],i[1],time]=Each_node_queue[i[1]].queue_size()"
      ],
      "metadata": {
        "id": "ffHTp5gSbQbI"
      },
      "execution_count": null,
      "outputs": []
    }
  ]
}